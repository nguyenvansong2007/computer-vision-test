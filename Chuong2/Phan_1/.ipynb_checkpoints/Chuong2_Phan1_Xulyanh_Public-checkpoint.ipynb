{
 "cells": [
  {
   "cell_type": "markdown",
   "id": "bdaf6720",
   "metadata": {},
   "source": [
    "<center>\n",
    "    <img src='images/logo.png' width='400px'>\n",
    "    <h1>MÔN HỌC: THỊ GIÁC MÁY TÍNH (7080518)</h1>\n",
    "<h2> Chương 2: XỬ LÝ VÀ NÂNG CAO CHẤT LƯỢNG ẢNH - Phần 1</h2>\n",
    "</center>\n",
    "\n",
    "---\n",
    "Xử lý ảnh (Image processing): là quá trình tạo ra ảnh mới từ ảnh có sẵn, VD: tăng độ sáng, cắt ảnh, khử nhiễu,… không tập trung vào việc hiểu nội dung của bức ảnh.\n",
    "\n",
    "**Nội dung bài học - phần 1:**\n",
    "\n",
    "**I. Một số kỹ thuật xử lý ảnh cơ bản:**\n",
    "1. Thay đổi kích thước ảnh (Resizing images)\n",
    "2. Cắt ảnh (Cropping images)\n",
    "3. Xoay ảnh (Rotate images)\n",
    "4. Lật ảnh (Flip images)\n",
    "---\n",
    "*Copyright @dangvannam.FIT.HUMG*"
   ]
  },
  {
   "cell_type": "code",
   "execution_count": null,
   "id": "cfd52668",
   "metadata": {},
   "outputs": [],
   "source": [
    "#Khai báo sử dụng thư viện:\n",
    "import numpy as np\n",
    "import matplotlib.pyplot as plt\n",
    "import cv2\n",
    "print('Version OpenCV:', cv2.__version__)\n",
    "\n",
    "#--------------------------------\n",
    "import warnings\n",
    "warnings.filterwarnings(\"ignore\")"
   ]
  },
  {
   "cell_type": "markdown",
   "id": "48d3785f",
   "metadata": {},
   "source": [
    "### 1.1 Thay đổi kích thước ảnh (Resizing images)\n",
    "---\n",
    "* Thay đổi kích thước (Zoom in, Zoom out) là một trong những kỹ thuật xử lý ảnh thông dụng.\n",
    "* Ảnh có kích thước lớn sẽ chiếm nhiều bộ nhớ, số lượng tập dữ liệu ảnh thường rất lớn. Do đó cần giảm kích thước ảnh. Resize là một kỹ thuật phổ biến. => Trong OpenCV, Sử dụng hàm cv2.resize"
   ]
  },
  {
   "cell_type": "code",
   "execution_count": null,
   "id": "2d92f09b",
   "metadata": {},
   "outputs": [],
   "source": [
    "#Đọc ảnh:\n",
    "img_orignal = cv2.imread('images/apples.jpg',1)\n",
    "\n",
    "#Chuyển sang hệ màu RGB để hiện thị:\n",
    "img_orignal = cv2.cvtColor(img_orignal,cv2.COLOR_BGR2RGB)\n",
    "\n",
    "#Hiển thị ảnh gốc:\n",
    "plt.imshow(img_orignal)\n",
    "plt.show()"
   ]
  },
  {
   "cell_type": "code",
   "execution_count": null,
   "id": "f058eeb1",
   "metadata": {},
   "outputs": [],
   "source": []
  },
  {
   "cell_type": "code",
   "execution_count": null,
   "id": "5ad2e60e",
   "metadata": {},
   "outputs": [],
   "source": [
    "#Lấy kích thước ảnh ban đầu:\n",
    "h = img_orignal.shape[0]\n",
    "w = img_orignal.shape[1]\n",
    "print('Độ phân giải ảnh ban đầu:',h,'x',w)"
   ]
  },
  {
   "cell_type": "code",
   "execution_count": null,
   "id": "4681259a",
   "metadata": {},
   "outputs": [],
   "source": [
    "# số pixel \n",
    "print(img_orignal.size)"
   ]
  },
  {
   "cell_type": "code",
   "execution_count": null,
   "id": "6b9b9105",
   "metadata": {},
   "outputs": [],
   "source": [
    "#Thay đổi kích thước ảnh về độ phân giải: 100 x 200\n",
    "dsize = (200,100) #Lưu ý thứ tự (Width, Height)\n",
    "\n",
    "#Sử dụng phương thức resize():\n",
    "img_100x200 = cv2.resize(img_orignal,\n",
    "                         dsize, \n",
    "                         interpolation=cv2.INTER_LINEAR) \n",
    "\n",
    "#Hiển thị ảnh gốc và ảnh thay đổi kích thước\n",
    "plt.figure(figsize=(10,5))\n",
    "plt.subplot(1, 2, 1)\n",
    "\n",
    "plt.imshow(img_orignal)\n",
    "st = 'Ảnh gốc ban đầu:' + str(h) +  'x' + str(w)\n",
    "plt.title(st)\n",
    "plt.grid()\n",
    "\n",
    "plt.subplot(1, 2, 2)\n",
    "plt.imshow(img_100x200)\n",
    "plt.title('Ảnh thay đổi kích thước 100x200')\n",
    "plt.grid()\n",
    "\n",
    "plt.show()"
   ]
  },
  {
   "cell_type": "code",
   "execution_count": null,
   "id": "4274a547",
   "metadata": {},
   "outputs": [],
   "source": [
    "#Lưu ảnh sau resize:\n",
    "cv2.imwrite('images/Apples_100x200.jpg',\n",
    "            cv2.cvtColor(img_100x200,cv2.COLOR_RGB2BGR))"
   ]
  },
  {
   "cell_type": "code",
   "execution_count": null,
   "id": "291f42f0",
   "metadata": {},
   "outputs": [],
   "source": [
    "# số pixel điểm ảnh đã thay đổi\n",
    "print('Ảnh gốc: ', img_orignal.size)\n",
    "print('Ảnh thu nhỏ: ',img_100x200.size)"
   ]
  },
  {
   "cell_type": "code",
   "execution_count": null,
   "id": "97028714",
   "metadata": {},
   "outputs": [],
   "source": []
  },
  {
   "cell_type": "markdown",
   "id": "a6e28d1a",
   "metadata": {},
   "source": [
    "## Các tham số của phương thức resize:\n",
    "---\n",
    "\n",
    "**cv2.resize(src, dsize, interpolation)**\n",
    "\n",
    "Ý nghĩa các tham số:\n",
    "\n",
    "1. src: ảnh gốc cần thay đổi kích thước.\n",
    "2. dsize (width, height): Kích thước ảnh muốn thay đổi\n",
    "3. interpolation: chỉ định thuật toán thực hiện resize:\n",
    "* INTER_NEAREST – nội suy láng giềng gần nhất\n",
    "* INTER_LINEAR – nội suy song tuyến tính (mặc định)\n",
    "* INTER_AREA – resampling using pixel area relation. It may be a preferred method for image decimation, as it gives moire’-free results. But when the image is zoomed, it is similar to the INTER_NEAREST method.\n",
    "* INTER_CUBIC –  nội suy xoắn bậc 3, trên  4×4 pixel láng giềng\n",
    "* INTER_LANCZOS4 –  nội suy Lanczos trên 8×8 pixel láng giềng!\n",
    "\n",
    "\n"
   ]
  },
  {
   "cell_type": "code",
   "execution_count": null,
   "id": "4f7e54a7",
   "metadata": {},
   "outputs": [],
   "source": [
    "#Resize ảnh với các thuật toán khác nhau:\n",
    "dsize = (256,256)\n",
    "\n",
    "#INTER_LINEAR (thuật toán mặc định):\n",
    "img_256_Linear = cv2.resize(img_orignal,dsize,\n",
    "                            interpolation=cv2.INTER_LINEAR)\n",
    "\n",
    "#INTER_NEAREST:\n",
    "img_256_Nearest = cv2.resize(img_orignal,dsize,\n",
    "                             interpolation=cv2.INTER_NEAREST)\n",
    "\n",
    "#INTER_AREA:\n",
    "img_256_Area = cv2.resize(img_orignal, dsize,\n",
    "                          interpolation=cv2.INTER_AREA)\n",
    "\n",
    "#INTER_CUBIC\n",
    "img_256_Cubic = cv2.resize(img_orignal,dsize,\n",
    "                           interpolation=cv2.INTER_CUBIC)\n",
    "\n",
    "#Hiển thị ảnh gốc và ảnh thay đổi kích thước với các thuật toán khác nhau\n",
    "plt.figure(figsize=(10,10))\n",
    "plt.subplot(2, 2, 1)\n",
    "plt.imshow(img_256_Linear)\n",
    "plt.title('img_256_Linear')\n",
    "\n",
    "plt.subplot(2, 2, 2)\n",
    "plt.imshow(img_256_Nearest)\n",
    "plt.title('img_256_Nearest')\n",
    "\n",
    "plt.subplot(2, 2, 3)\n",
    "plt.imshow(img_256_Area)\n",
    "plt.title('img_256_Area')\n",
    "\n",
    "plt.subplot(2, 2, 4)\n",
    "plt.imshow(img_256_Cubic)\n",
    "plt.title('img_256_Cubic')\n",
    "\n",
    "plt.show()"
   ]
  },
  {
   "cell_type": "markdown",
   "id": "696bbe25",
   "metadata": {},
   "source": [
    "**Thông thường:**\n",
    "* cv.INTER_AREA để thu nhỏ\n",
    "* cv.INTER_CUBIC & cv.INTER_LINEAR để zoom."
   ]
  },
  {
   "cell_type": "code",
   "execution_count": null,
   "id": "4f8ef6bd",
   "metadata": {},
   "outputs": [],
   "source": []
  },
  {
   "cell_type": "code",
   "execution_count": null,
   "id": "587579c9",
   "metadata": {},
   "outputs": [],
   "source": [
    "#Lấy kích thước ảnh ban đầu:\n",
    "h = img_orignal.shape[0]\n",
    "w = img_orignal.shape[1]\n",
    "print('Độ phân giải ảnh ban đầu:',h,'x',w)"
   ]
  },
  {
   "cell_type": "code",
   "execution_count": null,
   "id": "7d4c1746",
   "metadata": {},
   "outputs": [],
   "source": [
    "dzoom_in = (96,96)      #Thiết lập kích thước Thu nhỏ hình ảnh\n",
    "dzoom_out = (2000,2000) #Thiết lập kích thước Phóng to hình ảnh\n",
    "\n",
    "#Thu nhỏ:\n",
    "img_96 = cv2.resize(img_orignal,\n",
    "                    dzoom_in,\n",
    "                    interpolation=cv2.INTER_AREA)\n",
    "\n",
    "#Phóng phóng to:\n",
    "img_2000 = cv2.resize(img_orignal,\n",
    "                      dzoom_out,\n",
    "                      interpolation=cv2.INTER_CUBIC)\n",
    "\n",
    "#Lưu ảnh:\n",
    "cv2.imwrite('images/Apples_96.jpg',cv2.cvtColor(img_96,cv2.COLOR_RGB2BGR))\n",
    "cv2.imwrite('images/Apples_2000.jpg',cv2.cvtColor(img_2000,cv2.COLOR_RGB2BGR))\n",
    "\n",
    "#Hiển thị kết quả\n",
    "plt.figure(figsize=(10,5))\n",
    "plt.subplot(1, 2, 1)\n",
    "plt.imshow(img_96)\n",
    "plt.title('Ảnh thay đổi kích thước 96x96')\n",
    "\n",
    "plt.subplot(1, 2, 2)\n",
    "plt.imshow(img_2000)\n",
    "plt.title('Ảnh thay đổi kích thước 2000x2000')\n",
    "\n",
    "plt.show()"
   ]
  },
  {
   "cell_type": "code",
   "execution_count": null,
   "id": "51d69d2d",
   "metadata": {},
   "outputs": [],
   "source": [
    "print('Độ phân giải ảnh ban đầu:',h,'x',w)"
   ]
  },
  {
   "cell_type": "code",
   "execution_count": null,
   "id": "bc18089e",
   "metadata": {},
   "outputs": [],
   "source": [
    "#Thay đổi kích thước ảnh theo tỷ lệ % (scale) nhập vào: \n",
    "# Nếu scale <100 thu nhỏ \n",
    "# Nếu scale = 100 giữ nguyên\n",
    "# Nếu scale>100 phóng to\n",
    "\n",
    "\n",
    "\n",
    "# Đọc ảnh\n",
    "pic = cv2.imread('images/pic_1.jpg',1)\n",
    "\n",
    "#Hiên thị kích thước ảnh gốc\n",
    "h_sv = pic.shape[0]\n",
    "w_sv = pic.shape[1]\n",
    "print ('Kích thước ảnh góc',h_sv,'x',w_sv)\n",
    "\n",
    "# Hiển thị kích thước ảnh gốc\n",
    "plt.imshow(cv2.cvtColor(pic,cv2.COLOR_BGR2RGB))\n",
    "plt.grid(ls='--')\n",
    "plt.show()\n",
    "\n",
    "\n"
   ]
  },
  {
   "cell_type": "code",
   "execution_count": null,
   "id": "eb6df263",
   "metadata": {},
   "outputs": [],
   "source": [
    "# Nhập tham số scale\n",
    "scale = input('Nhập tỷ lệ % muốn thay đổi: ')\n",
    "print('Tỷ lệ thay đổi: ',scale, '(%)')\n",
    "\n",
    "h_sv_new = int(scale) * h_sv//100\n",
    "w_sv_new = int(scale) * w_sv//100\n",
    "\n",
    "print('Kích thước ảnh gốc: ',h_sv,'x',w_sv)\n",
    "print('Kích thước ảnh thay đổi: ',h_sv_new,'x',w_sv_new)\n",
    "\n",
    "# thay đổi kích thước ảnh gốc\n",
    "d_pic = (w_sv_new, h_sv_new)\n",
    "pic_new = cv2.resize(pic,\n",
    "                    d_pic,\n",
    "                    interpolation=cv2.INTER_AREA)\n",
    "# Hiển thị kết quả ảnh thay đổi\n",
    "plt.figure(figsize = (12,5))\n",
    "plt.subplot(1,2,1)\n",
    "plt.imshow(cv2.cvtColor(pic,cv2.COLOR_BGR2RGB))\n",
    "plt.title('Ảnh gốc')\n",
    "\n",
    "plt.subplot(1,2,2)\n",
    "plt.imshow(cv2.cvtColor(pic,cv2.COLOR_BGR2RGB))\n",
    "plt.title('Ảnh đã thay đổi')\n",
    "\n",
    "plt.show()"
   ]
  },
  {
   "cell_type": "code",
   "execution_count": null,
   "id": "be2c1543",
   "metadata": {},
   "outputs": [],
   "source": []
  },
  {
   "cell_type": "markdown",
   "id": "6cbecb66",
   "metadata": {},
   "source": [
    "## THỰC HÀNH 2.1: \n",
    "---\n",
    "**Yêu cầu 1:** Sinh viên đọc ảnh màu images/Thuchanh_2_1.jpg và chuyển đổi sang hệ RGB, hiển thị ảnh\n",
    "\n",
    "**Yêu cầu 2:** Cho biết chiều cao, chiều rộng và số pixel điểm ảnh.\n",
    "\n",
    "**Yêu cầu 3:** Thực hiện thay đổi kích thước theo yêu cầu sau:\n",
    "\n",
    "    3.1. Thay đổi kích thước ảnh về 32x32, sử dụng tham số interpolation mặc định. Hiển thị kết quả và Lưu lại ảnh vào thư mục images/Saves/MSV_img_31.jpg theo hệ màu BGR\n",
    "    \n",
    "    3.2. Giữ nguyên chiều cao của ảnh gốc, giảm chiều rộng ảnh đi một nửa, Sử dụng phương pháp INTER_NEAREST.Hiển thị kết quả và Lưu lại ảnh vào thư mục images/Saves/MSV_img_32.jpg theo hệ màu BGR\n",
    "    \n",
    "    3.3. Tăng chiều cao của ảnh lên gấp đôi, giữ nguyên chiều rộng của ảnh gốc; Sử dụng phương pháp INTER_LANCZOS4. Hiển thị kết quả và Lưu lại ảnh vào thư mục images/Saves/MSV_img_33.jpg theo hệ màu BGR"
   ]
  },
  {
   "cell_type": "code",
   "execution_count": null,
   "id": "ad6e026b",
   "metadata": {},
   "outputs": [],
   "source": [
    "#{SINH VIÊN VIẾT CODE Ở ĐÂY:}\n",
    "#1. Đọc ảnh và hiển thị ảnh:\n"
   ]
  },
  {
   "cell_type": "code",
   "execution_count": null,
   "id": "aff55caf",
   "metadata": {},
   "outputs": [],
   "source": [
    "#2. Chiều cao, chiều rộng và số pixel điểm ảnh:\n"
   ]
  },
  {
   "cell_type": "code",
   "execution_count": null,
   "id": "f59b5aaf",
   "metadata": {},
   "outputs": [],
   "source": [
    "#3. Thực hiện thay đổi kích thước theo yêu cầu sau:\n",
    "#3.1. Thay đổi kích thước ảnh về 32x32, sử dụng tham số interpolation mặc định. \n",
    "# Hiển thị kết quả và Lưu lại ảnh vào thư mục Saves/MSV_img_1.jpg theo hệ màu BGR\n",
    "\n",
    "\n"
   ]
  },
  {
   "cell_type": "code",
   "execution_count": null,
   "id": "179ea07d",
   "metadata": {},
   "outputs": [],
   "source": []
  },
  {
   "cell_type": "code",
   "execution_count": null,
   "id": "a34cc686",
   "metadata": {},
   "outputs": [],
   "source": [
    "#3.2. Giữ nguyên chiều cao của ảnh gốc, giảm chiều rộng ảnh đi một nửa, \n",
    "#Sử dụng phương pháp INTER_NEAREST.\n",
    "#Hiển thị kết quả và Lưu lại ảnh vào thư mục images/Saves/MSV_img_2.jpg theo hệ màu BGR\n",
    "\n",
    "\n"
   ]
  },
  {
   "cell_type": "code",
   "execution_count": null,
   "id": "7539bc9e",
   "metadata": {},
   "outputs": [],
   "source": []
  },
  {
   "cell_type": "code",
   "execution_count": null,
   "id": "471f2232",
   "metadata": {},
   "outputs": [],
   "source": [
    "#3.3 Tăng chiều cao của ảnh lên gấp đôi, giữ nguyên chiều rộng của ảnh gốc; \n",
    "#Sử dụng phương pháp INTER_LANCZOS4. \n",
    "#Hiển thị kết quả và Lưu lại ảnh vào thư mục images/Saves/MSV_img_3.jpg theo hệ màu BGR\n",
    "\n",
    "\n"
   ]
  },
  {
   "cell_type": "code",
   "execution_count": null,
   "id": "e2db8be0",
   "metadata": {},
   "outputs": [],
   "source": []
  },
  {
   "cell_type": "code",
   "execution_count": null,
   "id": "441b55a0",
   "metadata": {},
   "outputs": [],
   "source": []
  },
  {
   "cell_type": "markdown",
   "id": "652ee396",
   "metadata": {},
   "source": [
    "## THỰC HÀNH 2.1 (Tiếp): \n",
    "---\n",
    "Thay đổi kích thước nhiều ảnh:\n",
    "\n",
    "**Yêu cầu 4:** Sinh viên sử dụng thư mục chứa các ảnh đã đổi tên thực hiện trong bài thực hành 1.3 chương 1. Thực hiện thay đổi kích thước toàn bộ ảnh về độ phân giải 96x96 pixel. Lưu lại ảnh đã thay đổi vào thư mục mới có tên Pic_96 và đặt lại tên ảnh như sau: Pic_96_i.jpg với i là các số thứ tự của ảnh.\n"
   ]
  },
  {
   "cell_type": "code",
   "execution_count": null,
   "id": "68909ac3",
   "metadata": {},
   "outputs": [],
   "source": [
    "# {SINH VIÊN VIẾT CODE VÀO ĐÂY}\n",
    "\n",
    "\n",
    "\n"
   ]
  },
  {
   "cell_type": "code",
   "execution_count": null,
   "id": "ac9a5984",
   "metadata": {},
   "outputs": [],
   "source": []
  },
  {
   "cell_type": "code",
   "execution_count": null,
   "id": "d67c92fe",
   "metadata": {},
   "outputs": [],
   "source": []
  },
  {
   "cell_type": "markdown",
   "id": "5bc658cf",
   "metadata": {},
   "source": [
    "## 2. Cắt ảnh (Cropping Images)\n",
    "---\n",
    "Thực hiện cắt một phần của ảnh, sử dụng phương pháp tách các phần tử trong ma trận:\n",
    "* Ảnh nhị phân, ảnh xám --> Ma trận [hàng (chiều cao ảnh), côt (chiều rộng ảnh)]\n",
    "* Ảnh màu ---> Mảng 3 chiều [hàng (chiều cao ảnh), côt (chiều rộng ảnh),màu (BGR)]\n",
    "\n",
    "**img_cropped = img[start_row:end_row, start_col:end_col]**"
   ]
  },
  {
   "cell_type": "code",
   "execution_count": null,
   "id": "d85db258",
   "metadata": {},
   "outputs": [],
   "source": [
    "#Đọc ảnh màu:\n",
    "img_miss = cv2.imread('images/MissVN.jpg')\n",
    "\n",
    "#Chuyển sang hệ màu RGB để hiện thị:\n",
    "img_miss = cv2.cvtColor(img_miss,cv2.COLOR_BGR2RGB)\n",
    "\n",
    "#Tạo khoảng chia của lưới:\n",
    "ax = np.arange(0,img_miss.shape[1],30) #Tạo các tick cho trục x\n",
    "ay = np.arange(0,img_miss.shape[0],30) #Tạo các tick cho trục y\n",
    "\n",
    "#Hiển thị ảnh:\n",
    "plt.figure(figsize=(10,5))\n",
    "plt.imshow(img_miss)\n",
    "plt.xticks(ax, rotation=90)\n",
    "plt.yticks(ay)\n",
    "plt.grid(ls='--')\n",
    "plt.show()"
   ]
  },
  {
   "cell_type": "code",
   "execution_count": null,
   "id": "6b09d961",
   "metadata": {},
   "outputs": [],
   "source": [
    "#Kích thước ảnh gốc:\n",
    "print(img_miss.shape)"
   ]
  },
  {
   "cell_type": "code",
   "execution_count": null,
   "id": "35147d8b",
   "metadata": {},
   "outputs": [],
   "source": [
    "#Cắt lấy từng người trong ảnh gốc:\n",
    "img_ahau2 = img_miss[:,0:220]\n",
    "img_hoahau = img_miss[:,220:420]\n",
    "img_ahau1 = img_miss[:,420:]\n",
    "\n",
    "#Hiển thị kết quả:\n",
    "plt.figure(figsize=(10,5))\n",
    "plt.subplot(1, 3, 1)\n",
    "plt.imshow(img_ahau2)\n",
    "plt.title('Á hậu 2')\n",
    "\n",
    "plt.subplot(1, 3, 2)\n",
    "plt.imshow(img_hoahau)\n",
    "plt.title('Hoa hậu')\n",
    "\n",
    "plt.subplot(1, 3, 3)\n",
    "plt.imshow(img_ahau1)\n",
    "plt.title('Á hậu 1')\n",
    "\n",
    "plt.show()"
   ]
  },
  {
   "cell_type": "code",
   "execution_count": null,
   "id": "de015056",
   "metadata": {},
   "outputs": [],
   "source": [
    "#Chỉ Cắt lấy khuôn mặt trong ảnh và hiển thị\n",
    "\n",
    "\n",
    "\n",
    "\n",
    "\n",
    "\n",
    "\n"
   ]
  },
  {
   "cell_type": "code",
   "execution_count": null,
   "id": "16f51c77",
   "metadata": {},
   "outputs": [],
   "source": []
  },
  {
   "cell_type": "code",
   "execution_count": null,
   "id": "bf203b2e",
   "metadata": {},
   "outputs": [],
   "source": [
    "#CẮT ẢNH THEO MỘT VÙNG LỰA CHỌN BẰNG CHUỘT VỚI PHƯƠNG THỨC selectROI:\n",
    "import cv2\n",
    "import numpy as np\n",
    "import matplotlib.pyplot as plt  \n",
    "  \n",
    "#Đọc ảnh:\n",
    "img_miss = cv2.imread('images/Pic_1.jpg')\n",
    "  \n",
    "# Select ROI: Lấy một vùng trong ảnh --> Toạ độ của vùng ảnh \n",
    "r = cv2.selectROI(\"select the area\", img_miss)\n",
    "  \n",
    "#Cắt ảnh theo vùng được chọn\n",
    "cropped_image = img_miss[int(r[1]):int(r[1]+r[3]), \n",
    "                      int(r[0]):int(r[0]+r[2])]\n",
    "  \n",
    "# Hiển thị ảnh đã cắt:\n",
    "plt.imshow(cv2.cvtColor(cropped_image,cv2.COLOR_BGR2RGB))\n",
    "plt.grid(ls='--')\n",
    "plt.show()"
   ]
  },
  {
   "cell_type": "code",
   "execution_count": null,
   "id": "9172a62d",
   "metadata": {},
   "outputs": [],
   "source": []
  },
  {
   "cell_type": "code",
   "execution_count": null,
   "id": "11aed54d",
   "metadata": {},
   "outputs": [],
   "source": []
  },
  {
   "cell_type": "markdown",
   "id": "d2dde9a7",
   "metadata": {},
   "source": [
    "## THỰC HÀNH 2.2: \n",
    "---\n",
    "Yêu cầu :\n",
    "* Sinh viên đọc và hiển thị ảnh images/Thuchanh_2_2.jpg ở dạng ảnh xám.\n",
    "* Cắt lấy từng con số và ký tự có trong ảnh, Hiển thị và lưu ảnh đã cắt vào thư mục images/Saves/ với tên tương ứng là MSV_kytutuongung.jpg\n",
    "<img src = 'images/Thuchanh_2_2.jpg' width='300px'>"
   ]
  },
  {
   "cell_type": "code",
   "execution_count": null,
   "id": "ad8224cb",
   "metadata": {},
   "outputs": [],
   "source": [
    "#{SINH VIÊN VIẾT CODE VÀO ĐÂY:}\n",
    "#Đọc ảnh xám:\n",
    "\n"
   ]
  },
  {
   "cell_type": "code",
   "execution_count": null,
   "id": "dfcf1e69",
   "metadata": {},
   "outputs": [],
   "source": []
  },
  {
   "cell_type": "code",
   "execution_count": null,
   "id": "5ef406a5",
   "metadata": {},
   "outputs": [],
   "source": []
  },
  {
   "cell_type": "code",
   "execution_count": null,
   "id": "9bd4b949",
   "metadata": {},
   "outputs": [],
   "source": [
    "\n"
   ]
  },
  {
   "cell_type": "code",
   "execution_count": null,
   "id": "2c6137d9",
   "metadata": {},
   "outputs": [],
   "source": []
  },
  {
   "cell_type": "markdown",
   "id": "d7bbb0dd",
   "metadata": {},
   "source": [
    "## 3. Xoay ảnh (Rotate Images)\n",
    "---\n",
    "OpenCV hỗ trợ phương thức xoay ảnh:\n",
    " **cv2.rotate(img, rotateCode)**\n",
    " \n",
    " Trong đó:\n",
    " 1. img: ảnh gốc muốn xoay\n",
    " 2. rotateCode: các chế độ xoay ảnh:\n",
    "     * cv2.ROTATE_90_CLOCKWISE: Xoay 90 độ theo chiều kim đồng hồ\n",
    "     * cv2.ROTATE_90_COUNTERCLOCKWISE: Xoay 90 độ ngược chiều kim đồng hồ\n",
    "     * cv2.ROTATE_180: Xoay ảnh 180 (lật ảnh)"
   ]
  },
  {
   "cell_type": "code",
   "execution_count": null,
   "id": "8119e87a",
   "metadata": {},
   "outputs": [],
   "source": [
    "#Đọc ảnh màu:\n",
    "img = cv2.imread('images/Pic_1.jpg')\n",
    "\n",
    "#Chuyển sang hệ màu RGB để hiện thị:\n",
    "img_miss = cv2.cvtColor(img,cv2.COLOR_BGR2RGB)\n",
    "\n",
    "#Hiển thị ảnh:\n",
    "plt.imshow(img_miss)\n",
    "plt.show()"
   ]
  },
  {
   "cell_type": "code",
   "execution_count": null,
   "id": "aa18e618",
   "metadata": {},
   "outputs": [],
   "source": []
  },
  {
   "cell_type": "code",
   "execution_count": null,
   "id": "3a0692cf",
   "metadata": {},
   "outputs": [],
   "source": [
    "#Xoay ảnh 90 độ theo chiều kim đồng hồ:\n",
    "img_rotate_90_clockwise = cv2.rotate(img_miss, \n",
    "                                     cv2.ROTATE_90_CLOCKWISE)\n",
    "#Hiển thị ảnh đã xoay:\n",
    "plt.imshow(img_rotate_90_clockwise)\n",
    "plt.show()"
   ]
  },
  {
   "cell_type": "code",
   "execution_count": null,
   "id": "8a82bcc2",
   "metadata": {},
   "outputs": [],
   "source": []
  },
  {
   "cell_type": "code",
   "execution_count": null,
   "id": "c5a1c709",
   "metadata": {},
   "outputs": [],
   "source": [
    "#Xoay ảnh 90 độ ngược chiều kim đồng hồ:\n",
    "img_rotate_90_counterclockwise = cv2.rotate(img_miss, \n",
    "                                            cv2.ROTATE_90_COUNTERCLOCKWISE)\n",
    "\n",
    "#Hiển thị ảnh đã xoay:\n",
    "plt.imshow(img_rotate_90_counterclockwise)\n",
    "plt.show()"
   ]
  },
  {
   "cell_type": "code",
   "execution_count": null,
   "id": "13c1d54c",
   "metadata": {},
   "outputs": [],
   "source": []
  },
  {
   "cell_type": "code",
   "execution_count": null,
   "id": "df69709d",
   "metadata": {},
   "outputs": [],
   "source": [
    "#Xoay ảnh 180 độ:\n",
    "img_rotate_180 = cv2.rotate(img_miss, \n",
    "                            cv2.ROTATE_180)\n",
    "\n",
    "#Hiển thị đã xoay:\n",
    "plt.imshow(img_rotate_180)\n",
    "plt.show()"
   ]
  },
  {
   "cell_type": "code",
   "execution_count": null,
   "id": "5d41712d",
   "metadata": {},
   "outputs": [],
   "source": []
  },
  {
   "cell_type": "markdown",
   "id": "4c19db54",
   "metadata": {},
   "source": [
    "## 4. Lật ảnh (Flip Images)\n",
    "---\n",
    "OpenCV hỗ trợ phương thức lật ảnh:\n",
    " **cv2.flip(img, flipCode)**\n",
    " \n",
    " Trong đó:\n",
    " 1. img: ảnh gốc muốn xoay\n",
    " 2. flipCode: các chế độ lật ảnh:\n",
    "     * flipCode = 0: Lật ảnh theo chiều ngang\n",
    "     * flipCode > 0: Lật ảnh theo chiều dọc\n",
    "     * flipCode < 0: Lật ảnh theo chiều ngang và dọc"
   ]
  },
  {
   "cell_type": "code",
   "execution_count": null,
   "id": "17f5849a",
   "metadata": {},
   "outputs": [],
   "source": [
    "#Đọc ảnh màu:\n",
    "img = cv2.imread('images/fish.jpg')\n",
    "\n",
    "#Chuyển sang hệ màu RGB để hiện thị:\n",
    "img_fish = cv2.cvtColor(img,cv2.COLOR_BGR2RGB)\n",
    "\n",
    "#Hiển thị ảnh:\n",
    "plt.imshow(img_fish)\n",
    "plt.show()"
   ]
  },
  {
   "cell_type": "code",
   "execution_count": null,
   "id": "ed5942f1",
   "metadata": {},
   "outputs": [],
   "source": []
  },
  {
   "cell_type": "code",
   "execution_count": null,
   "id": "d05ec1b5",
   "metadata": {},
   "outputs": [],
   "source": [
    "#Lật ảnh theo chiều ngang (trục X): flipCode = 0\n",
    "img_flip_ud = cv2.flip(img_fish, 0)\n",
    "\n",
    "#Hiển thị ảnh đã lật:\n",
    "plt.imshow(img_flip_ud)\n",
    "plt.show()"
   ]
  },
  {
   "cell_type": "code",
   "execution_count": null,
   "id": "e62f9763",
   "metadata": {},
   "outputs": [],
   "source": []
  },
  {
   "cell_type": "code",
   "execution_count": null,
   "id": "d0bb6780",
   "metadata": {},
   "outputs": [],
   "source": [
    "#Lật ảnh theo chiều dọc (trục Y): flipCode > 0\n",
    "img_flip_lr = cv2.flip(img_fish, 1)\n",
    "\n",
    "#Hiển thị ảnh đã lật:\n",
    "plt.imshow(img_flip_lr)\n",
    "plt.show()"
   ]
  },
  {
   "cell_type": "code",
   "execution_count": null,
   "id": "ec709c83",
   "metadata": {},
   "outputs": [],
   "source": []
  },
  {
   "cell_type": "code",
   "execution_count": null,
   "id": "e2459cb9",
   "metadata": {},
   "outputs": [],
   "source": [
    "#Lật ảnh theo cả 2 chiều ngang, dọc (theo trục Y, X): flipCode < 0\n",
    "img_flip_up_lr = cv2.flip(img_fish, -1)\n",
    "\n",
    "#Hiển thị ảnh đã lật:\n",
    "plt.imshow(img_flip_up_lr)\n",
    "plt.show()"
   ]
  },
  {
   "cell_type": "markdown",
   "id": "7878b13f",
   "metadata": {},
   "source": [
    "## THỰC HÀNH 2.3: \n",
    "---\n",
    "Yêu cầu :\n",
    "* Sinh viên đọc và hiển thị ảnh images/Thuchanh_2_3.jpg ở chế độ mặc định.\n",
    "* Thực hiện xoay ảnh 90 độ thuận và ngược chiều kim đồng hồ.\n",
    "* Thực hiện lật ảnh theo chiều ngang và dọc\n",
    "* Hiển thị và lưu các ảnh đã xoay, lật vào thư mục images/Saves/\n",
    "<img src = 'images/Thuchanh_2_3.jpg' width='300px'>"
   ]
  },
  {
   "cell_type": "code",
   "execution_count": null,
   "id": "a114eba1",
   "metadata": {},
   "outputs": [],
   "source": [
    "#{SINH VIÊN VIẾT CODE VÀO ĐÂY}\n",
    "#Đọc ảnh\n",
    "\n"
   ]
  },
  {
   "cell_type": "code",
   "execution_count": null,
   "id": "a098b8fb",
   "metadata": {},
   "outputs": [],
   "source": []
  },
  {
   "cell_type": "code",
   "execution_count": null,
   "id": "3ee419dd",
   "metadata": {},
   "outputs": [],
   "source": []
  },
  {
   "cell_type": "code",
   "execution_count": null,
   "id": "368089af",
   "metadata": {},
   "outputs": [],
   "source": [
    "#  buổi sau 16/3 có bài kiểm tra b1 trên lớp"
   ]
  }
 ],
 "metadata": {
  "kernelspec": {
   "display_name": "Python 3 (ipykernel)",
   "language": "python",
   "name": "python3"
  },
  "language_info": {
   "codemirror_mode": {
    "name": "ipython",
    "version": 3
   },
   "file_extension": ".py",
   "mimetype": "text/x-python",
   "name": "python",
   "nbconvert_exporter": "python",
   "pygments_lexer": "ipython3",
   "version": "3.10.9"
  }
 },
 "nbformat": 4,
 "nbformat_minor": 5
}
