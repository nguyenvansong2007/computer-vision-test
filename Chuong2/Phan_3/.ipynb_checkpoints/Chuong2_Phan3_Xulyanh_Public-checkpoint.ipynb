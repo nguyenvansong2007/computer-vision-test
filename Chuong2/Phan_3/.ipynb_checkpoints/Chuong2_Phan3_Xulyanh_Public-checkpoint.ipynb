{
 "cells": [
  {
   "cell_type": "markdown",
   "id": "bdaf6720",
   "metadata": {},
   "source": [
    "<center>\n",
    "    <img src='images/logo.png' width='400px'>\n",
    "    <h1>MÔN HỌC: THỊ GIÁC MÁY TÍNH (7080518)</h1>\n",
    "<h2> Chương 2: XỬ LÝ VÀ NÂNG CAO CHẤT LƯỢNG ẢNH - Phần 3</h2>\n",
    "</center>\n",
    "\n",
    "---\n",
    "\n",
    "Xử lý ảnh (Image processing): là quá trình tạo ra ảnh mới từ ảnh có sẵn, VD: tăng độ sáng, cắt ảnh, khử nhiễu,… không tập trung vào việc hiểu nội dung của bức ảnh.\n",
    "\n",
    "**Nội dung bài học - phần 3:**\n",
    "\n",
    "**II. Cải thiện chất lượng ảnh:**\n",
    "\n",
    "1. Làm mờ - mịn  ảnh\n",
    "    * Làm mịn trung bình\n",
    "    * Làm mịn trung vị\n",
    "    * Làm mịn Gaussian\n",
    "2.  Nhiễu và khử nhiễu trong ảnh\n",
    "3. Giới thiệu Nhân tích chập\n",
    "4. Nhân tích chập 2D trong OpenCV\n",
    "\n",
    "---\n",
    "*Copyright @dangvannam.FIT.HUMG*"
   ]
  },
  {
   "cell_type": "code",
   "execution_count": null,
   "id": "cfd52668",
   "metadata": {},
   "outputs": [],
   "source": [
    "#Khai báo sử dụng thư viện:\n",
    "import numpy as np\n",
    "import matplotlib.pyplot as plt\n",
    "import cv2\n",
    "print('Version OpenCV:', cv2.__version__)"
   ]
  },
  {
   "cell_type": "code",
   "execution_count": null,
   "id": "562af9b1",
   "metadata": {},
   "outputs": [],
   "source": []
  },
  {
   "cell_type": "markdown",
   "id": "48d3785f",
   "metadata": {},
   "source": [
    "### 1. Làm mờ - mịn ảnh với bộ lọc (Blurring images)\n",
    "---\n",
    "* Làm mịn ảnh hay còn gọi là làm mờ là một thao tác xử lý đơn giản và được sử dụng thường xuyên trong xử lý ảnh. Có rất nhiều lý do để làm mịn ảnh, Một trong số lý do đó là để giảm nhiễu.\n",
    "* Để thực hiện thao tác làm mịn ảnh sử dụng một cửa sổ trượt kích thước k x k (kernel). Kích thước kernel càng lớn thì ảnh càng mịn. Giá trị điểm ảnh ở giữa được tính bằng hàm f của toàn bộ điểm ảnh tại vị trí cửa sổ trượt quét qua."
   ]
  },
  {
   "cell_type": "code",
   "execution_count": null,
   "id": "2d92f09b",
   "metadata": {},
   "outputs": [],
   "source": [
    "#Đọc ảnh:\n",
    "img_orignal = cv2.imread('images/apples.jpg',1)\n",
    "\n",
    "#Chuyển sang hệ màu RGB để hiện thị:\n",
    "img_orignal = cv2.cvtColor(img_orignal,cv2.COLOR_BGR2RGB)\n",
    "\n",
    "#Hiển thị ảnh gốc:\n",
    "plt.imshow(img_orignal,cmap='gray')\n",
    "plt.show()"
   ]
  },
  {
   "cell_type": "code",
   "execution_count": null,
   "id": "5ad2e60e",
   "metadata": {},
   "outputs": [],
   "source": [
    "#Lấy kích thước ảnh ban đầu:\n",
    "h = img_orignal.shape[0]\n",
    "w = img_orignal.shape[1]\n",
    "print('Độ phân giải ảnh ban đầu:',h,'x',w)"
   ]
  },
  {
   "cell_type": "markdown",
   "id": "d90e04a6",
   "metadata": {},
   "source": [
    "**1. phương thức lọc trung bình cv2.blur():**\n",
    "\n",
    "Phương thức này sử dụng cách thức đơn giản nhất. Mỗi pixel điểm ảnh đầu là là trung bình cộng của các pixel lân cận.\n",
    "\n",
    "**cv2.blur(src, kernel)**\n",
    "\n",
    "Ý nghĩa các tham số:\n",
    "\n",
    "1. src: ảnh gốc cần thay đổi kích thước.\n",
    "2. kernel (width, height): Kích thước cửa sổ trượt"
   ]
  },
  {
   "cell_type": "code",
   "execution_count": null,
   "id": "6b9b9105",
   "metadata": {},
   "outputs": [],
   "source": [
    "#Thiết lập kernel:\n",
    "\n"
   ]
  },
  {
   "cell_type": "code",
   "execution_count": null,
   "id": "4274a547",
   "metadata": {},
   "outputs": [],
   "source": [
    "#Giá trị điểm ảnh kênh R của ảnh gốc:\n"
   ]
  },
  {
   "cell_type": "code",
   "execution_count": null,
   "id": "c5bde76f",
   "metadata": {},
   "outputs": [],
   "source": [
    "#Giá trị điểm ảnh kênh R của ảnh sau khi làm mờ:\n"
   ]
  },
  {
   "cell_type": "code",
   "execution_count": null,
   "id": "5c3b0ac3",
   "metadata": {},
   "outputs": [],
   "source": []
  },
  {
   "cell_type": "code",
   "execution_count": null,
   "id": "ce5350ff",
   "metadata": {},
   "outputs": [],
   "source": []
  },
  {
   "cell_type": "code",
   "execution_count": null,
   "id": "4f7e54a7",
   "metadata": {},
   "outputs": [],
   "source": [
    "#Làm mịn ảnh với các kernel khác nhau:\n",
    "\n",
    "\n",
    "\n",
    "\n",
    "\n"
   ]
  },
  {
   "cell_type": "markdown",
   "id": "a6e28d1a",
   "metadata": {},
   "source": [
    "**2. phương thức lọc trung vị cv2.medianBlur():**\n",
    "Bộ lọc trung vị chạy qua từng phần tử của tín hiệu (trong trường hợp này là hình ảnh) và thay thế mỗi pixel bằng trung vị của các pixel lân cận (nằm trong vùng lân cận hình vuông xung quanh pixel được đánh giá).\n",
    "\n",
    "**cv2.MedianBlur(src, ksize)**\n",
    "\n",
    "Ý nghĩa các tham số:\n",
    "\n",
    "1. src: ảnh gốc cần thay đổi kích thước.\n",
    "2. ksize: chỉ truyền vào 1 giá trị, phải là số lẻ và lớn hơn 1, ví dụ 3, 5, 7...\n"
   ]
  },
  {
   "cell_type": "code",
   "execution_count": null,
   "id": "69cd063d",
   "metadata": {},
   "outputs": [],
   "source": []
  },
  {
   "cell_type": "code",
   "execution_count": null,
   "id": "10e3c65f",
   "metadata": {},
   "outputs": [],
   "source": []
  },
  {
   "cell_type": "code",
   "execution_count": null,
   "id": "d29b99e7",
   "metadata": {},
   "outputs": [],
   "source": [
    "#Làm mịn ảnh với các kernel khác nhau sử dụng bộ lọc trung vị:\n",
    "#ksize = 5:\n",
    "median_5 = cv2.medianBlur(img_orignal,5)\n",
    "\n",
    "#ksize = 15:\n",
    "median_15 = cv2.medianBlur(img_orignal,15)\n",
    "\n",
    "#ksize =  25:\n",
    "median_25 = cv2.medianBlur(img_orignal,25)\n",
    "\n",
    "#ksize = 75:\n",
    "median_75 = cv2.medianBlur(img_orignal,75)\n",
    "\n",
    "#Hiển thị kết quả:\n",
    "plt.figure(figsize=(10,7))\n",
    "plt.subplot(2, 2, 1)\n",
    "plt.imshow(median_5)\n",
    "plt.title('Median = 5')\n",
    "\n",
    "plt.subplot(2, 2, 2)\n",
    "plt.imshow(median_15)\n",
    "plt.title('Median = 15')\n",
    "\n",
    "plt.subplot(2, 2, 3)\n",
    "plt.imshow(median_25)\n",
    "plt.title('Median = 25')\n",
    "\n",
    "plt.subplot(2, 2, 4)\n",
    "plt.imshow(median_75)\n",
    "plt.title('Median = 75')\n",
    "\n",
    "plt.show()"
   ]
  },
  {
   "cell_type": "code",
   "execution_count": null,
   "id": "d8522d72",
   "metadata": {},
   "outputs": [],
   "source": []
  },
  {
   "cell_type": "markdown",
   "id": "e8183b52",
   "metadata": {},
   "source": [
    "**3. phương thức lọc Gaussian cv2.GaussianBlur():**\n",
    "Đây là một trong những phương pháp làm mịn hữu ích.Lọc Gaussian được thực hiện bằng cách xoay từng điểm trong mảng đầu vào với một hạt nhân Gaussian và sau đó tổng hợp tất cả chúng để tạo ra mảng đầu ra.\n",
    "\n",
    "**cv2.GaussianBlur(src, kernel,sigmaX, sigmaY)**\n",
    "\n",
    "Ý nghĩa các tham số:\n",
    "\n",
    "1. src: ảnh gốc cần thay đổi kích thước.\n",
    "2. kernel (width, height): Kích thước cửa sổ trượt, phải là số dương và lẻ.\n",
    "    \n",
    "    \n",
    "Xem thêm thông tin về smoothing trong OpenCV: https://docs.opencv.org/3.4/dc/dd3/tutorial_gausian_median_blur_bilateral_filter.html"
   ]
  },
  {
   "cell_type": "code",
   "execution_count": null,
   "id": "f997d513",
   "metadata": {},
   "outputs": [],
   "source": []
  },
  {
   "cell_type": "code",
   "execution_count": null,
   "id": "49300325",
   "metadata": {},
   "outputs": [],
   "source": []
  },
  {
   "cell_type": "code",
   "execution_count": null,
   "id": "be2c1543",
   "metadata": {},
   "outputs": [],
   "source": [
    "#Làm mịn ảnh với các kernel khác nhau sử dụng bộ lọc Gaussian:\n",
    "#kernel = 5 x 5:\n",
    "gaussian_5 = cv2.GaussianBlur(img_orignal,(5,5),0)\n",
    "\n",
    "#kernel = 15 x 15:\n",
    "gaussian_15 = cv2.GaussianBlur(img_orignal,(15,15),0)\n",
    "\n",
    "#kernel = 25 x 25:\n",
    "gaussian_25 = cv2.GaussianBlur(img_orignal,(25,25),0)\n",
    "\n",
    "#kernel = 75 x 75:\n",
    "gaussian_75 = cv2.GaussianBlur(img_orignal,(75,75),0)\n",
    "\n",
    "#Hiển thị kết quả:\n",
    "plt.figure(figsize=(10,7))\n",
    "plt.subplot(2, 2, 1)\n",
    "plt.imshow(gaussian_5)\n",
    "plt.title('gaussian = 5')\n",
    "\n",
    "plt.subplot(2, 2, 2)\n",
    "plt.imshow(gaussian_15)\n",
    "plt.title('gaussian = 15')\n",
    "\n",
    "plt.subplot(2, 2, 3)\n",
    "plt.imshow(gaussian_25)\n",
    "plt.title('gaussian = 25')\n",
    "\n",
    "plt.subplot(2, 2, 4)\n",
    "plt.imshow(gaussian_75)\n",
    "plt.title('gaussian = 75')\n",
    "\n",
    "plt.show()"
   ]
  },
  {
   "cell_type": "code",
   "execution_count": null,
   "id": "fa77ea33",
   "metadata": {},
   "outputs": [],
   "source": []
  },
  {
   "cell_type": "code",
   "execution_count": null,
   "id": "bc40c31f",
   "metadata": {},
   "outputs": [],
   "source": []
  },
  {
   "cell_type": "code",
   "execution_count": null,
   "id": "a33b2ecd",
   "metadata": {},
   "outputs": [],
   "source": [
    "#So sánh các phương pháp làm mịn ảnh khác nhau:\n"
   ]
  },
  {
   "cell_type": "code",
   "execution_count": null,
   "id": "64de9f8d",
   "metadata": {},
   "outputs": [],
   "source": []
  },
  {
   "cell_type": "markdown",
   "id": "3dbceaeb",
   "metadata": {},
   "source": [
    "## THỰC HÀNH 2.8: \n",
    "---\n",
    "**Yêu cầu 1:** Sinh viên đọc ảnh images/Thuchanh2_8.jpeg, dạng xám và hiển thị ảnh\n",
    "\n",
    "**Yêu cầu 2:** Sử dụng phương pháp làm mịn trung bình với kernel 5x5, 10x10, 20x30 và hiển thị kết quả\n",
    "\n",
    "**Yêu cầu 3:** Sử dụng phương pháp làm mịn trung vị với k =  7, 11, 21 và hiển thị kết quả\n",
    "\n",
    "**Yêu cầu 4:** Sử dụng phương pháp làm mịn Gaussian với kernel = (7,7) và sigmaY, sigmaY lần lượt là (0,0); (0,20); (20,0) và hiển thị kết quả\n",
    "\n",
    "<img src='images/Thuchanh2_8.jpeg' width='400px'>"
   ]
  },
  {
   "cell_type": "code",
   "execution_count": null,
   "id": "fadb6b36",
   "metadata": {},
   "outputs": [],
   "source": [
    "#{SINH VIÊN VIẾT CODE VÀO ĐÂY}\n"
   ]
  },
  {
   "cell_type": "code",
   "execution_count": null,
   "id": "204db89a",
   "metadata": {},
   "outputs": [],
   "source": []
  },
  {
   "cell_type": "code",
   "execution_count": null,
   "id": "84f06c9d",
   "metadata": {},
   "outputs": [],
   "source": []
  },
  {
   "cell_type": "code",
   "execution_count": null,
   "id": "2189e006",
   "metadata": {},
   "outputs": [],
   "source": []
  },
  {
   "cell_type": "markdown",
   "id": "5bf0520e",
   "metadata": {},
   "source": [
    "## 2. Nhiễu và khử nhiễu trong ảnh\n",
    "---\n",
    "Khái niệm: Nhiễu xuất hiện trong quá trình thu nhận ảnh, số hoá và truyền ảnh. \n",
    "* Cảm biến ảnh có thể bị ảnh hưởng bởi các điều kiện môi trường.\n",
    "* Nhiễu có thể can thiệp vào ảnh trong quá trình truyền ảnh.\n",
    "* Lượng tử hoá\n",
    "* Số hoá."
   ]
  },
  {
   "cell_type": "code",
   "execution_count": null,
   "id": "d5287e8f",
   "metadata": {},
   "outputs": [],
   "source": [
    "import numpy as np \n",
    "import cv2\n",
    "import matplotlib.pyplot as plt \n",
    "\n",
    "# Đọc ảnh\n",
    "img = cv2.imread('images/pic_square.jpeg',0)\n",
    "m,n = img.shape[:2]\n",
    "\n",
    "plt.imshow(img,cmap='gray')\n",
    "plt.show()"
   ]
  },
  {
   "cell_type": "markdown",
   "id": "587f921a",
   "metadata": {},
   "source": [
    "## Một số loại nhiễu cơ bản\n",
    "---\n",
    "1. Nhiễu Gaussian\n",
    "2. Nhiễu Rayleigh \n",
    "3. Nhiễu Erlang (Gammar)\n",
    "4. Nhiễu hàm mũ\n",
    "5. Nhiễu đồng nhất (Uniform) \n",
    "6. Nhiễu muối tiêu"
   ]
  },
  {
   "cell_type": "code",
   "execution_count": null,
   "id": "2d0dd95c",
   "metadata": {},
   "outputs": [],
   "source": [
    "# Thêm nhiễu Gaussian vào ảnh img\n",
    "gia_tri_TB = 10\n",
    "phuong_sai = 25\n",
    "noise = np.random.normal(loc=gia_tri_TB,scale=phuong_sai,size=(m,n))\n",
    "Gau_noisy_img = img + noise\n",
    "\n",
    "# 1. Hiển thị ảnh gốc, ảnh nhiễu và histogram\n",
    "# Tạo cửa số 1 để hiển thị ảnh cho nhiễu Gaussian\n",
    "fig1 = plt.figure(figsize=(16, 9))  # Tạo vùng vẽ tỷ lệ 16:9\n",
    "#Tạo 9 vùng vẽ con\n",
    "(ax1, ax2), (ax3, ax4) = fig1.subplots(2, 2)\n",
    "# Hiển thị ảnh gốc\n",
    "ax1.imshow(img, cmap='gray')\n",
    "ax1.set_title('Ảnh gốc')\n",
    "ax1.axis('off')\n",
    "# Hiển thị histogram ảnh gốc\n",
    "ax2.hist(img.flatten(),bins=256)\n",
    "ax2.set_title('Histogram')\n",
    "# Hiển thị ảnh nhiễu Gaussian\n",
    "ax3.imshow(Gau_noisy_img, cmap='gray')\n",
    "ax3.set_title('Ảnh nhiễu Gaussian')\n",
    "ax3.axis('off')\n",
    "# Hiển thị histogram ảnh nhiễu gaussian\n",
    "ax4.hist(Gau_noisy_img.flatten(),bins=256)\n",
    "ax4.set_title('Hitogram')\n",
    "plt.show()"
   ]
  },
  {
   "cell_type": "code",
   "execution_count": null,
   "id": "706b747d",
   "metadata": {},
   "outputs": [],
   "source": []
  },
  {
   "cell_type": "code",
   "execution_count": null,
   "id": "3830acdb",
   "metadata": {},
   "outputs": [],
   "source": [
    "# Thêm nhiễu Rayleigh vào ảnh img\n",
    "phuong_sai = 50\n",
    "noise = np.random.rayleigh(scale=phuong_sai,size=(m,n))\n",
    "Ray_noisy_img = img + noise\n",
    "\n",
    "# 2. Tạo cửa số 2 để hiển thị ảnh cho nhiễu Rayleigh\n",
    "fig2 = plt.figure(figsize=(16, 9))  # Tạo vùng vẽ tỷ lệ 16:9\n",
    "#Tạo 9 vùng vẽ con\n",
    "(ax1, ax2), (ax3, ax4) = fig2.subplots(2, 2)\n",
    "# Hiển thị ảnh gốc\n",
    "ax1.imshow(img, cmap='gray')\n",
    "ax1.set_title('Ảnh gốc')\n",
    "ax1.axis('off')\n",
    "# Hiển thị histogram ảnh gốc\n",
    "ax2.hist(img.flatten(),bins=256)\n",
    "ax2.set_title('Hitogram')\n",
    "# Hiển thị ảnh nhiễu Rayleigh\n",
    "ax3.imshow(Ray_noisy_img, cmap='gray')\n",
    "ax3.set_title('Ảnh nhiễu Rayleigh')\n",
    "ax3.axis('off')\n",
    "# Hiển thị histogram ảnh nhiễu Rayleigh\n",
    "ax4.hist(Ray_noisy_img.flatten(),bins=256)\n",
    "ax4.set_title('Histogram')\n",
    "plt.show()"
   ]
  },
  {
   "cell_type": "code",
   "execution_count": null,
   "id": "38d37934",
   "metadata": {},
   "outputs": [],
   "source": []
  },
  {
   "cell_type": "code",
   "execution_count": null,
   "id": "5525030c",
   "metadata": {},
   "outputs": [],
   "source": []
  },
  {
   "cell_type": "code",
   "execution_count": null,
   "id": "b762f564",
   "metadata": {},
   "outputs": [],
   "source": [
    "# Thêm nhiễu Erlang (Gammar) vào ảnh img\n",
    "K = 2.0\n",
    "phuong_sai = 18\n",
    "noise = np.random.gamma(shape=K,scale=phuong_sai,size=(m,n))\n",
    "Gam_noisy_img = img + noise\n",
    "\n",
    "# 3. Tạo cửa số 3 để hiển thị ảnh cho nhiễu Erlang (Gamma)\n",
    "fig2 = plt.figure(figsize=(16, 9))  # Tạo vùng vẽ tỷ lệ 16:9\n",
    "#Tạo 9 vùng vẽ con\n",
    "(ax1, ax2), (ax3, ax4) = fig2.subplots(2, 2)\n",
    "# Hiển thị ảnh gốc\n",
    "ax1.imshow(img, cmap='gray')\n",
    "ax1.set_title('Ảnh gốc')\n",
    "ax1.axis('off')\n",
    "# Hiển thị histogram ảnh gốc\n",
    "ax2.hist(img.flatten(),bins=256)\n",
    "ax2.set_title('Hitogram')\n",
    "# Hiển thị ảnh nhiễu Erlang (Gammar)\n",
    "ax3.imshow(Gam_noisy_img, cmap='gray')\n",
    "ax3.set_title('Ảnh nhiễu Erlang (Gammar)')\n",
    "ax3.axis('off')\n",
    "# Hiển thị histogram ảnh nhiễu Erlang (Gammar)\n",
    "ax4.hist(Gam_noisy_img.flatten(),bins=256)\n",
    "ax4.set_title('Histogram')\n",
    "plt.show()"
   ]
  },
  {
   "cell_type": "code",
   "execution_count": null,
   "id": "bfed613b",
   "metadata": {},
   "outputs": [],
   "source": []
  },
  {
   "cell_type": "code",
   "execution_count": null,
   "id": "e65a701b",
   "metadata": {},
   "outputs": [],
   "source": []
  },
  {
   "cell_type": "code",
   "execution_count": null,
   "id": "5e1bd8f5",
   "metadata": {},
   "outputs": [],
   "source": [
    "# Thêm nhiễu hàm mũ vào ảnh img\n",
    "phuong_sai = 26\n",
    "noise = np.random.exponential(scale=phuong_sai,size=(m,n))\n",
    "Exp_noisy_img = img + noise\n",
    "\n",
    "# 4. Tạo cửa số 4 để hiển thị ảnh cho nhiễu nhiễu hàm mũ\n",
    "fig2 = plt.figure(figsize=(16, 9))  # Tạo vùng vẽ tỷ lệ 16:9\n",
    "#Tạo 4 vùng vẽ con\n",
    "(ax1, ax2), (ax3, ax4) = fig2.subplots(2, 2)\n",
    "# Hiển thị ảnh gốc\n",
    "ax1.imshow(img, cmap='gray')\n",
    "ax1.set_title('Ảnh gốc')\n",
    "ax1.axis('off')\n",
    "# Hiển thị histogram ảnh gốc\n",
    "ax2.hist(img.flatten(),bins=256)\n",
    "ax2.set_title('Hitogram')\n",
    "# Hiển thị ảnh nhiễu nhiễu hàm mũ\n",
    "ax3.imshow(Exp_noisy_img, cmap='gray')\n",
    "ax3.set_title('Ảnh nhiễu hàm mũ')\n",
    "ax3.axis('off')\n",
    "# Hiển thị histogram ảnh nhiễu nhiễu hàm mũ\n",
    "ax4.hist(Exp_noisy_img.flatten(),bins=256)\n",
    "ax4.set_title('Histogram')\n",
    "plt.show()\n"
   ]
  },
  {
   "cell_type": "code",
   "execution_count": null,
   "id": "8157529f",
   "metadata": {},
   "outputs": [],
   "source": []
  },
  {
   "cell_type": "code",
   "execution_count": null,
   "id": "53baaff8",
   "metadata": {},
   "outputs": [],
   "source": []
  },
  {
   "cell_type": "code",
   "execution_count": null,
   "id": "8a8c5146",
   "metadata": {},
   "outputs": [],
   "source": [
    "# Thêm nhiễu Uniform vào ảnh img\n",
    "a,b = 10,100\n",
    "noise = np.random.uniform(low=a,high=b,size=(m,n))\n",
    "Uni_noisy_img = img + noise\n",
    "\n",
    "# 5. Tạo cửa số 5 để hiển thị ảnh cho nhiễu nhiễu Uniform\n",
    "fig2 = plt.figure(figsize=(16, 9))  # Tạo vùng vẽ tỷ lệ 16:9\n",
    "#Tạo 4 vùng vẽ con\n",
    "(ax1, ax2), (ax3, ax4) = fig2.subplots(2, 2)\n",
    "# Hiển thị ảnh gốc\n",
    "ax1.imshow(img, cmap='gray')\n",
    "ax1.set_title('Ảnh gốc')\n",
    "ax1.axis('off')\n",
    "# Hiển thị histogram ảnh gốc\n",
    "ax2.hist(img.flatten(),bins=256)\n",
    "ax2.set_title('Hitogram')\n",
    "# Hiển thị ảnh nhiễu nhiễu Uniform\n",
    "ax3.imshow(Uni_noisy_img, cmap='gray')\n",
    "ax3.set_title('Ảnh nhiễu Uniform')\n",
    "ax3.axis('off')\n",
    "# Hiển thị histogram ảnh nhiễu Uniform\n",
    "ax4.hist(Uni_noisy_img.flatten(),bins=256)\n",
    "ax4.set_title('Histogram')\n",
    "plt.show()\n"
   ]
  },
  {
   "cell_type": "code",
   "execution_count": null,
   "id": "80a413cf",
   "metadata": {},
   "outputs": [],
   "source": []
  },
  {
   "cell_type": "markdown",
   "id": "2c3ce7d5",
   "metadata": {},
   "source": [
    "## Cách tạo nhiễu cho ảnh:\n",
    "---"
   ]
  },
  {
   "cell_type": "code",
   "execution_count": null,
   "id": "31abe40b",
   "metadata": {},
   "outputs": [],
   "source": [
    "# Thêm nhiễu muối tiêu (add salt and pepper) vào ảnh img\n",
    "number_black = int(m*n*0.05)  # định nghĩa số điểm đen\n",
    "number_white = int(m*n*0.05)  # định nghĩa số điểm trắng\n",
    "# Lấy giá trị nguyên ngẫu nhiên trong đoạn 0..m\n",
    "# Giá trị này sẽ biểu diễn tọa độ điểm đen theo hàng\n",
    "m_blacks = np.random.randint(0,m,number_black)\n",
    "# Lấy giá trị nguyên ngẫu nhiên trong đoạn 0..n\n",
    "# Giá trị này sẽ biểu diễn tọa độ điểm đen theo cột\n",
    "n_blacks = np.random.randint(0,n,number_black)\n",
    "# Lấy giá trị nguyên ngẫu nhiên trong đoạn 0..m\n",
    "# Giá trị này sẽ biểu diễn tọa độ điểm trắng theo hàng\n",
    "m_whites = np.random.randint(0,m,number_white)\n",
    "# Lấy giá trị nguyên ngẫu nhiên trong đoạn 0..n\n",
    "# Giá trị này sẽ biểu diễn tọa độ điểm trắng theo cột\n",
    "n_whites = np.random.randint(0,n,number_white)\n",
    "\n",
    "SP_noisy_img = np.copy(img) # Sao chép ảnh img để tạo ảnh SP_noisy_img\n",
    "# Thiết lập mức xám = 0 (điểm đen) cho điểm ảnh có tọa độ (m_blacks,n_blacks)\n",
    "SP_noisy_img[m_blacks,n_blacks] = 0\n",
    "# Thiết lập mức xám = 255 (điểm trắng) cho điểm ảnh có tọa độ (m_whites,n_whites)\n",
    "SP_noisy_img[m_whites,n_whites] = 255\n",
    "\n",
    "\n",
    "# 6. Tạo cửa số 6 để hiển thị ảnh cho nhiễu nhiễu muối tiêu (nhiễu xung)\n",
    "fig2 = plt.figure(figsize=(16, 9))  # Tạo vùng vẽ tỷ lệ 16:9\n",
    "#Tạo 4 vùng vẽ con\n",
    "(ax1, ax2), (ax3, ax4) = fig2.subplots(2, 2)\n",
    "# Hiển thị ảnh gốc\n",
    "ax1.imshow(img, cmap='gray')\n",
    "ax1.set_title('Ảnh gốc')\n",
    "ax1.axis('off')\n",
    "# Hiển thị histogram ảnh gốc\n",
    "ax2.hist(img.flatten(),bins=256)\n",
    "ax2.set_title('Hitogram')\n",
    "# Hiển thị ảnh nhiễu nhiễu muối tiêu (nhiễu xung)\n",
    "ax3.imshow(SP_noisy_img, cmap='gray')\n",
    "ax3.set_title('Ảnh nhiễu muối tiêu')\n",
    "ax3.axis('off')\n",
    "# Hiển thị histogram ảnh nhiễu muối tiêu (nhiễu xung)\n",
    "ax4.hist(SP_noisy_img.flatten(),bins=256)\n",
    "ax4.set_title('Histogram')\n",
    "plt.show()"
   ]
  },
  {
   "cell_type": "code",
   "execution_count": null,
   "id": "60d9bff9",
   "metadata": {},
   "outputs": [],
   "source": []
  },
  {
   "cell_type": "code",
   "execution_count": null,
   "id": "84469d67",
   "metadata": {},
   "outputs": [],
   "source": []
  },
  {
   "cell_type": "code",
   "execution_count": null,
   "id": "21bd9bfb",
   "metadata": {},
   "outputs": [],
   "source": []
  },
  {
   "cell_type": "markdown",
   "id": "189e3b2f",
   "metadata": {},
   "source": [
    "## Sử dụng bộ lọc làm mịn để khử nhiễu trong ảnh:\n",
    "---"
   ]
  },
  {
   "cell_type": "code",
   "execution_count": null,
   "id": "ddd87b31",
   "metadata": {},
   "outputs": [],
   "source": [
    "#Đọc ảnh gốc bị nhiễu:\n",
    "\n",
    "\n",
    "\n"
   ]
  },
  {
   "cell_type": "code",
   "execution_count": null,
   "id": "1d6803e1",
   "metadata": {},
   "outputs": [],
   "source": []
  },
  {
   "cell_type": "code",
   "execution_count": null,
   "id": "23f9b632",
   "metadata": {},
   "outputs": [],
   "source": []
  },
  {
   "cell_type": "code",
   "execution_count": null,
   "id": "71c19ea7",
   "metadata": {},
   "outputs": [],
   "source": []
  },
  {
   "cell_type": "code",
   "execution_count": null,
   "id": "258dab23",
   "metadata": {},
   "outputs": [],
   "source": []
  },
  {
   "cell_type": "code",
   "execution_count": null,
   "id": "7d4c1746",
   "metadata": {},
   "outputs": [],
   "source": []
  },
  {
   "cell_type": "code",
   "execution_count": null,
   "id": "5f2ffcf3",
   "metadata": {},
   "outputs": [],
   "source": []
  },
  {
   "cell_type": "code",
   "execution_count": null,
   "id": "90c8d1b1",
   "metadata": {},
   "outputs": [],
   "source": []
  },
  {
   "cell_type": "markdown",
   "id": "6cbecb66",
   "metadata": {},
   "source": [
    "## THỰC HÀNH 2.9: \n",
    "---\n",
    "**Yêu cầu 1:** Sinh viên đọc ảnh images/Thuchanh2_9_1.jpeg. Lựa chọn phương pháp khử nhiễu và các tham số phù hợp để thu được ảnh khử nhiễu tốt nhất. Lưu ảnh đã xử lý vào thư mục images/Saves/MSV_brain.png\n",
    "\n",
    "<img src='images/Thuchanh2_9_1.jpeg' width='200px'>\n",
    "\n",
    "**Yêu cầu 2:** Sinh viên đọc ảnh images/Thuchanh2_9_2.png và hiển thị ảnh. Lựa chọn phương pháp khử nhiễu và các tham số phù hợp để thu được ảnh khử nhiễu tốt nhất. Lưu ảnh đã xử lý vào thư mục images/Saves/MSV_plane.png\n",
    "\n",
    "<img src='images/Thuchanh2_9_2.png' width='200px'>"
   ]
  },
  {
   "cell_type": "code",
   "execution_count": null,
   "id": "ad6e026b",
   "metadata": {},
   "outputs": [],
   "source": [
    "#{SINH VIÊN VIẾT CODE VÀO ĐÂY}\n"
   ]
  },
  {
   "cell_type": "code",
   "execution_count": null,
   "id": "ddbc1230",
   "metadata": {},
   "outputs": [],
   "source": []
  },
  {
   "cell_type": "code",
   "execution_count": null,
   "id": "6c2d566c",
   "metadata": {},
   "outputs": [],
   "source": []
  },
  {
   "cell_type": "code",
   "execution_count": null,
   "id": "ca2307b3",
   "metadata": {},
   "outputs": [],
   "source": []
  },
  {
   "cell_type": "markdown",
   "id": "d7bbb0dd",
   "metadata": {},
   "source": [
    "## 3. Nhân tích chập - Lọc ảnh 2D (Convolution)\n",
    "---\n",
    "Nguyên tắc chung của các phương pháp lọc là cho ma trận ảnh nhân với một ma trận lọc (Kernel). Ma trận lọc lọc (Kernel) còn có thể được gọi là cửa sổ chập (trong phép nhân chập), cửa sổ lọc, mặt nạ,…Việc nhân ảnh với ma trận lọc giống như việc trượt ma trận lọc theo hàng trên ảnh và nhân với từng vùng của ảnh, cộng các kết quả lại tạo thành kết quả của điểm ảnh trung tâm.\n",
    "\n",
    "Với mỗi phép lọc ta có những ma trận lọc (Kernel) khác nhau, không có một quy định cụ thể nào cho việc xác định M. Kích thước ma trận M là một số lẻ. Ví dụ: 3x3, 5x5.\n",
    "\n",
    "OpenCV hỗ trợ phương thức lọc ảnh 2D:\n",
    " **cv2.filter2D(img,ddepth, kernel)**\n",
    " \n",
    " Trong đó:\n",
    "1. img: ảnh gốc muốn áp dụng bộ lọc\n",
    "2. ddepth: Độ sâu của ảnh đầu ra; -1: độ sâu của ảnh đầu ra bằng độ sâu của ảnh đầu vào.\n",
    "3. kernel: ma trận lọc\n",
    "\n",
    "https://www.geeksforgeeks.org/python-opencv-filter2d-function/\n",
    "\n",
    "https://setosa.io/ev/image-kernels/"
   ]
  },
  {
   "cell_type": "code",
   "execution_count": null,
   "id": "8119e87a",
   "metadata": {},
   "outputs": [],
   "source": [
    "#Đọc ảnh:\n",
    "img = cv2.imread('images/Pic_1.jpg',1)\n",
    "\n",
    "#Đổi hệ màu:\n",
    "img = cv2.cvtColor(img,cv2.COLOR_BGR2RGB)\n",
    "\n",
    "#Hiển thị ảnh:\n",
    "plt.figure(figsize=(8,8))\n",
    "plt.imshow(img,cmap='gray')\n",
    "plt.show()"
   ]
  },
  {
   "cell_type": "markdown",
   "id": "b73ba5bb",
   "metadata": {},
   "source": [
    "## Một số bộ lọc thông dụng:\n",
    "---\n",
    "### 1. Bộ lọc identity:"
   ]
  },
  {
   "cell_type": "code",
   "execution_count": null,
   "id": "3f9919cf",
   "metadata": {},
   "outputs": [],
   "source": [
    "#Khởi tạo kernel:\n",
    "kernel_identity = \n",
    "\n"
   ]
  },
  {
   "cell_type": "code",
   "execution_count": null,
   "id": "721fdc07",
   "metadata": {},
   "outputs": [],
   "source": [
    "#Thực hiện lọc ảnh với kernel ở trên:\n"
   ]
  },
  {
   "cell_type": "code",
   "execution_count": null,
   "id": "7e0477c3",
   "metadata": {},
   "outputs": [],
   "source": []
  },
  {
   "cell_type": "code",
   "execution_count": null,
   "id": "4c681ec6",
   "metadata": {},
   "outputs": [],
   "source": []
  },
  {
   "cell_type": "code",
   "execution_count": null,
   "id": "4f1fa607",
   "metadata": {},
   "outputs": [],
   "source": []
  },
  {
   "cell_type": "markdown",
   "id": "f8b3daad",
   "metadata": {},
   "source": [
    "### 2. Bộ lọc phát hiện góc của ảnh (Edge detection))"
   ]
  },
  {
   "cell_type": "code",
   "execution_count": null,
   "id": "df69709d",
   "metadata": {},
   "outputs": [],
   "source": [
    "#Khởi tạo kernel:\n",
    "kernel_edge = \n",
    "\n"
   ]
  },
  {
   "cell_type": "code",
   "execution_count": null,
   "id": "36466402",
   "metadata": {},
   "outputs": [],
   "source": [
    "#Thực hiện lọc ảnh với kernel ở trên:\n",
    "\n",
    "\n"
   ]
  },
  {
   "cell_type": "code",
   "execution_count": null,
   "id": "306e59b1",
   "metadata": {},
   "outputs": [],
   "source": []
  },
  {
   "cell_type": "code",
   "execution_count": null,
   "id": "8bee8c03",
   "metadata": {},
   "outputs": [],
   "source": []
  },
  {
   "cell_type": "code",
   "execution_count": null,
   "id": "ca91a43c",
   "metadata": {},
   "outputs": [],
   "source": []
  },
  {
   "cell_type": "markdown",
   "id": "38c5e248",
   "metadata": {},
   "source": [
    "### 3. Bộ lọc sắc nét Sharpen kernel:"
   ]
  },
  {
   "cell_type": "code",
   "execution_count": null,
   "id": "3a0692cf",
   "metadata": {},
   "outputs": [],
   "source": [
    "#Khởi tạo kernel:\n",
    "kernel_sharpen = \n",
    "\n",
    "\n"
   ]
  },
  {
   "cell_type": "code",
   "execution_count": null,
   "id": "c5a1c709",
   "metadata": {},
   "outputs": [],
   "source": [
    "#Thực hiện lọc ảnh với kernel ở trên:\n"
   ]
  },
  {
   "cell_type": "code",
   "execution_count": null,
   "id": "acab5bec",
   "metadata": {},
   "outputs": [],
   "source": []
  },
  {
   "cell_type": "code",
   "execution_count": null,
   "id": "a34cdea3",
   "metadata": {},
   "outputs": [],
   "source": []
  },
  {
   "cell_type": "code",
   "execution_count": null,
   "id": "7906bd73",
   "metadata": {},
   "outputs": [],
   "source": []
  },
  {
   "cell_type": "markdown",
   "id": "4793cfa0",
   "metadata": {},
   "source": [
    "### 4. Bộ lọc làm mịn blur():\n",
    "---\n",
    "Tương tự với bộ lọc trung bình cv2.blur()"
   ]
  },
  {
   "cell_type": "code",
   "execution_count": null,
   "id": "1b715ac4",
   "metadata": {},
   "outputs": [],
   "source": [
    "#Khởi tạo kernel:\n",
    "kernel_blur = np.array([[1/9, 1/9, 1/9], \n",
    "                        [1/9, 1/9, 1/9],\n",
    "                        [1/9, 1/9, 1/9]])\n",
    "\n",
    "print(kernel_blur)"
   ]
  },
  {
   "cell_type": "code",
   "execution_count": null,
   "id": "5b4128ae",
   "metadata": {},
   "outputs": [],
   "source": []
  },
  {
   "cell_type": "code",
   "execution_count": null,
   "id": "5f870155",
   "metadata": {},
   "outputs": [],
   "source": [
    "#Thực hiện lọc ảnh với kernel ở trên:\n",
    "\n"
   ]
  },
  {
   "cell_type": "code",
   "execution_count": null,
   "id": "7effd518",
   "metadata": {},
   "outputs": [],
   "source": [
    "\n"
   ]
  },
  {
   "cell_type": "code",
   "execution_count": null,
   "id": "2e6a5f21",
   "metadata": {},
   "outputs": [],
   "source": [
    "\n"
   ]
  },
  {
   "cell_type": "markdown",
   "id": "7c8961e0",
   "metadata": {},
   "source": [
    "## THỰC HÀNH 2.10: \n",
    "---\n",
    "Yêu cầu :\n",
    "* Sinh viên đọc và hiển thị ảnh images/Thuchanh2_10. ở chế độ mặc định.\n",
    "* Áp dụng 4 bộ lọc khác nhau trên ảnh và hiển thị kết quả (xem chi tiết các bộ lọc trong slide bài giảng)\n",
    "<img src = 'images/Thuchanh2_10.png' width='300px'>\n",
    "\n",
    "https://setosa.io/ev/image-kernels/"
   ]
  },
  {
   "cell_type": "code",
   "execution_count": null,
   "id": "bbd9ec04",
   "metadata": {},
   "outputs": [],
   "source": [
    "#{SINH VIÊN VIẾT CODE VÀO ĐÂY}\n"
   ]
  },
  {
   "cell_type": "code",
   "execution_count": null,
   "id": "cef65959",
   "metadata": {},
   "outputs": [],
   "source": []
  }
 ],
 "metadata": {
  "kernelspec": {
   "display_name": "Python 3 (ipykernel)",
   "language": "python",
   "name": "python3"
  },
  "language_info": {
   "codemirror_mode": {
    "name": "ipython",
    "version": 3
   },
   "file_extension": ".py",
   "mimetype": "text/x-python",
   "name": "python",
   "nbconvert_exporter": "python",
   "pygments_lexer": "ipython3",
   "version": "3.10.9"
  }
 },
 "nbformat": 4,
 "nbformat_minor": 5
}
