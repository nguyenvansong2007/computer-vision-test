{
 "cells": [
  {
   "cell_type": "markdown",
   "id": "bdaf6720",
   "metadata": {},
   "source": [
    "<center>\n",
    "<img src='images/logo.jpg' width='300px'>\n",
    "<h2> Chương 4: PHÂN VÙNG ẢNH (Image Segmentation)</h2>\n",
    "</center>\n",
    "\n",
    "---\n",
    "* Mã sinh viên: \n",
    "* Họ tên sinh viên:\n",
    "* Lớp:\n",
    "---\n",
    "\n",
    "* Phân vùng ảnh (image segmentation) là một kỹ thuật quan trọng trong thị giác máy tính. Đây là tiền đề của của quá trình xử lý dữ liệu hình ảnh.\n",
    "* Phân vùng ảnh là một bước quan trọng trong nhiều lĩnh vực khác nhau như lĩnh vực hình ảnh y tế (medical imaging), phát hiện và nhận dạng đối tượng, hệ thống camera giám sát, hệ thống điều khiển giao thông… \n",
    "* Kết quả phân vùng tốt sẽ tạo điều kiện thuận lợi cho các khâu xử lý về sau, đảm bảo tính hiệu quả cao, gia tăng mức độ chính xác, đồng thời giảm thiểu nguồn lực tính toán.\n",
    "\n",
    "<img src='images/pic1.png' width='500px'>\n",
    "\n",
    "**Nội dung bài học:**\n",
    "1. Bài toán phân vùng ảnh\n",
    "2. Ứng dụng của phần vùng ảnh\n",
    "3. Các phương pháp phân vùng ảnh\n",
    "    1. Phân vùng ảnh dựa trên ngưỡng\n",
    "    2. Phân vùng ảnh dựa trên cạnh\n",
    "    3. Phân vùng ảnh dựa trên kỹ thuật phân cụm\n",
    "\n",
    "---\n",
    "**1. Phân vùng ảnh là gì?**\n",
    "\n",
    "* Phân vùng ảnh là một phương pháp mà trong đó, hình ảnh kỹ thuật số được chia thành nhiều nhóm con khác nhau được gọi là segments.\n",
    "\n",
    "* Một cách dễ hiểu, phân vùng ảnh là một quá trình gán nhãn (assigning a lablel) cho mỗi điểm ảnh trong một bức ảnh, các điểm ảnh trong cùng một nhãn sẽ có những đặc tính giống nhau về màu sắc, cường độ hoặc kết cấu của ảnh\n",
    "\n",
    "**Các cách tiếp cận phân vùng ảnh:**\n",
    "1. Cách tiếp cận tương đồng (Similarity approach), có nghĩa là phát hiện sự tương đồng giữa các pixel hình ảnh để tạo thành một phân đoạn, dựa trên một ngưỡng. Các thuật toán học máy như phân cụm thường dựa trên kiểu tiếp cận này để phân vùng một hình ảnh.\n",
    "2. Cách tiếp cận gián đoạn (Discontinuity approach): Cách tiếp cận này dựa trên sự gián đoạn của các giá trị cường độ pixel trong hình ảnh. Các kỹ thuật phát hiện đường, điểm và cạnh sử dụng kiểu tiếp cận gián đoạn để thu được các kết quả phân vùng trung gian. Kết quả này sau đó có thể được xử lý để cho ra hình ảnh được phân vùng cuối cùng.\n",
    "\n",
    "---\n",
    "*Copyright @dangvannam.FIT.HUMG*"
   ]
  },
  {
   "cell_type": "code",
   "execution_count": null,
   "id": "cfd52668",
   "metadata": {},
   "outputs": [],
   "source": [
    "#Khai báo sử dụng thư viện:\n",
    "import numpy as np\n",
    "import matplotlib.pyplot as plt\n",
    "import cv2\n",
    "print('Version OpenCV:', cv2.__version__)"
   ]
  },
  {
   "cell_type": "code",
   "execution_count": null,
   "id": "70bfa0fa",
   "metadata": {},
   "outputs": [],
   "source": []
  },
  {
   "cell_type": "markdown",
   "id": "c1981c65",
   "metadata": {},
   "source": [
    "# 3. Các phương pháp phân vùng ảnh\n",
    "---\n",
    "<img src='images/pic2.png' width='600px'>\n"
   ]
  },
  {
   "cell_type": "markdown",
   "id": "3fe05e93",
   "metadata": {},
   "source": [
    "## 3.1. Phân vùng ảnh dựa trên ngưỡng\n",
    "---\n",
    "* Đây là phương pháp phân vùng đơn giản, giúp tạo ra một hình ảnh nhị phân hoặc nhiều màu dựa trên việc đặt giá trị ngưỡng theo cường độ pixel của ảnh gốc.\n",
    "\n",
    "* Đối với một ảnh có nền và đối tượng, có thể chia ảnh thành các vùng dựa trên cường độ của đối tượng và nền. Nhưng ngưỡng này phải được thiết lập hoàn hảo để phân đoạn hình ảnh thành một đối tượng và một nền.\n",
    "\n",
    "* Phân ngưỡng bao gồm các kỹ thuật như:\n",
    "    * ngưỡng toàn cục (Global thresholding); \n",
    "    * ngưỡng thủ công (Manual thresholding); \n",
    "    * ngưỡng thích ứng (Adaptive Thresholding); \n",
    "    * ngưỡng tối ưu  (Optimal Thresholding); \n",
    "    * ngưỡng thích ứng cục bộ (Local Adaptive Thresholding).\n"
   ]
  },
  {
   "cell_type": "code",
   "execution_count": null,
   "id": "f6a555b5",
   "metadata": {},
   "outputs": [],
   "source": [
    "#Đọc ảnh pikachu ở chế độ ảnh xám:\n",
    "img_orignal = \n",
    "\n",
    "#Hiển thị ảnh gốc:\n"
   ]
  },
  {
   "cell_type": "markdown",
   "id": "fa015311",
   "metadata": {},
   "source": [
    "### Ngưỡng toàn cục (Global thresholding)\n",
    "---"
   ]
  },
  {
   "cell_type": "code",
   "execution_count": null,
   "id": "5fb88577",
   "metadata": {},
   "outputs": [],
   "source": [
    "#Hiển thị histogram của ảnh để xác định ngưỡng phù hợp:\n",
    "\n",
    "\n"
   ]
  },
  {
   "cell_type": "markdown",
   "id": "8454ba7c",
   "metadata": {},
   "source": [
    "#### phương thức threshold của OpenCV:\n",
    "---\n",
    "ret,thresh1 = cv2.threshold(img,T,max,type)\n",
    "\n",
    "trong đó:\n",
    "* img: ảnh gốc\n",
    "* T: giá trị ngưỡng\n",
    "* max: giá trị đc gán nếu > ngưỡng T\n",
    "* type: Loại xử lý cắt ngưỡng\n",
    "    * THRESH_BINARY: Có thể dịch là ngưỡng nhị phân. \n",
    "    * THRESH_BINARY_INV: Ngưỡng nhị phân đảo ngược. Có thể hiểu là nó sẽ đảo ngược lại kết quả của THRESH_BINARY."
   ]
  },
  {
   "cell_type": "code",
   "execution_count": null,
   "id": "4807b406",
   "metadata": {},
   "outputs": [],
   "source": [
    "#Lựa chọn ngưỡng và thực hiện cắt ngưỡng cục bộ: T = 220\n",
    "(T, thresh1) = cv2.threshold()\n",
    "\n",
    "#Hiển thị kết quả:\n"
   ]
  },
  {
   "cell_type": "code",
   "execution_count": null,
   "id": "c8c2bc50",
   "metadata": {},
   "outputs": [],
   "source": []
  },
  {
   "cell_type": "code",
   "execution_count": null,
   "id": "34fbbd1e",
   "metadata": {},
   "outputs": [],
   "source": [
    "#Cắt ngưỡng cục bộ sau đó thực hiện --> Đảo ảnh ():\n",
    "(T, thresh2) = cv2.threshold()\n",
    "\n",
    "#Hiển thị kết quả:\n"
   ]
  },
  {
   "cell_type": "code",
   "execution_count": null,
   "id": "f7e33aec",
   "metadata": {},
   "outputs": [],
   "source": []
  },
  {
   "cell_type": "code",
   "execution_count": null,
   "id": "76420bf6",
   "metadata": {},
   "outputs": [],
   "source": []
  },
  {
   "cell_type": "code",
   "execution_count": null,
   "id": "58d37553",
   "metadata": {},
   "outputs": [],
   "source": [
    "#Đọc ảnh ở chế độ ảnh xám:\n",
    "img_sudoku = \n",
    "  \n",
    "#Hiển thị ảnh gốc:\n",
    "plt.figure(figsize=(12,5))\n",
    "\n",
    "\n",
    "# Hiển thị Histogram của ảnh:\n"
   ]
  },
  {
   "cell_type": "code",
   "execution_count": null,
   "id": "dcec5f29",
   "metadata": {},
   "outputs": [],
   "source": [
    "#Sử dụng phương án cắt ngưỡng cục bộ:\n",
    "(T, th_sudoku) = \n",
    "\n",
    "\n",
    "#Hiển thị kết quả:\n"
   ]
  },
  {
   "cell_type": "markdown",
   "id": "fa53188e",
   "metadata": {},
   "source": [
    "### b. Ngưỡng thích nghi (Adaptive Thresholding)\n",
    "---\n",
    "Phương pháp phân ngưỡng toàn cục không phù hợp cho nhiều trường hợp như là với trường hợp ánh sáng không đồng đều trên ảnh. Khi đó phân ngưỡng thích là một giải pháp.\n",
    "\n",
    "OpenCV cung cấp phương thức adaptiveThreshold để thực hiện phân ngưỡng thích nghi. Phương thức này sẽ tính giá trị trung bình của n điểm ảnh xung quanh điểm ảnh đó rồi trừ đi C (n là thường là số lẻ, C là một số nguyên bất kỳ)"
   ]
  },
  {
   "cell_type": "markdown",
   "id": "a22a6f25",
   "metadata": {},
   "source": [
    "#### phương thức adaptiveThreshold của OpenCV:\n",
    "---\n",
    "pic = cv2.adaptiveThreshold(img, maxValue, thresholdType, type, n, C)\n",
    "\n",
    "trong đó:\n",
    "* img: ảnh gốc\n",
    "* maxValue: giá thiêt lập nếu > giá trị ngưỡng\n",
    "* adaptiveMethod: phương pháp tính cho các điểm lân cận lấy trung bình hay theo Gaussian\n",
    "    * ADAPTIVE_THRESH_MEAN_C − threshold value is the mean of neighborhood area.\n",
    "    * ADAPTIVE_THRESH_GAUSSIAN_C − threshold value is the weighted sum of neighborhood values where weights are a Gaussian window.\n",
    "* type: Loại xử lý cắt ngưỡng\n",
    "    * THRESH_BINARY: Có thể dịch là ngưỡng nhị phân. Ý nghĩa y hệt những gì mình đề cập ở trên.\n",
    "    * THRESH_BINARY_INV: Ngưỡng nhị phân đảo ngược. Có thể hiểu là nó sẽ đảo ngược lại kết quả của THRESH_BINARY.\n",
    "* n: Số lượng điểm ảnh xung quanh sử dụng để tính giá trị cho điểm đang xét, là số lẻ.\n",
    "\n",
    "* C: Giá trị số bất kỳ được sử dụng để trừ."
   ]
  },
  {
   "cell_type": "code",
   "execution_count": null,
   "id": "1987dedf",
   "metadata": {},
   "outputs": [],
   "source": [
    "#Thực hiện phân ngưỡng thích nghi\n",
    "\n",
    "\n",
    "\n",
    "\n"
   ]
  },
  {
   "cell_type": "code",
   "execution_count": null,
   "id": "47ee8538",
   "metadata": {},
   "outputs": [],
   "source": []
  },
  {
   "cell_type": "code",
   "execution_count": null,
   "id": "c4e52f7a",
   "metadata": {},
   "outputs": [],
   "source": []
  },
  {
   "cell_type": "code",
   "execution_count": null,
   "id": "a9ad3669",
   "metadata": {},
   "outputs": [],
   "source": []
  },
  {
   "cell_type": "markdown",
   "id": "1c0c9f60",
   "metadata": {},
   "source": [
    "## THỰC HÀNH 4.1\n",
    "---\n",
    "\n",
    "1. Đọc và hiển thị ảnh Thuchanh4_1.jpeg ở dạng ảnh xám\n",
    "2. Phân vùng ảnh sử dụng phương pháp phân ngưỡng toàn cục (Hãy xác định ngưỡng phù hợp để đạt kết quả tốt nhất)\n",
    "3. Phân vùng ảnh sử dụng phương pháp phân ngưỡng thích nghi (Hãy xác định các tham số phù hợp để đạt kết quả tốt nhất)\n",
    "\n",
    "<img src='images/Thuchanh4_1.jpeg' width='300px'>"
   ]
  },
  {
   "cell_type": "code",
   "execution_count": null,
   "id": "1c2fe295",
   "metadata": {},
   "outputs": [],
   "source": [
    "#{HỌC VIÊN VIẾT CODE VÀO ĐÂY}\n",
    "\n",
    "\n",
    "\n",
    "\n"
   ]
  },
  {
   "cell_type": "code",
   "execution_count": null,
   "id": "e3d1f197",
   "metadata": {},
   "outputs": [],
   "source": []
  },
  {
   "cell_type": "code",
   "execution_count": null,
   "id": "ea0849f1",
   "metadata": {},
   "outputs": [],
   "source": []
  },
  {
   "cell_type": "code",
   "execution_count": null,
   "id": "a6ee1ab3",
   "metadata": {},
   "outputs": [],
   "source": []
  },
  {
   "cell_type": "markdown",
   "id": "95b74e74",
   "metadata": {},
   "source": [
    "## 3.2 Phân vùng ảnh dựa trên cạnh, biên (Edge segmetation method)\n",
    "---\n",
    "* Cạnh trong ảnh đánh dấu những vị trí hình ảnh không liên tục về mức xám, màu sắc, kết cấu, v.v. Khi di chuyển từ vùng này sang vùng khác, mức xám có thể thay đổi. Vì vậy, nếu tìm thấy sự gián đoạn đó, ta có thể tìm thấy cạnh. Thực tế, có nhiều toán tử phát hiện cạnh, nhưng hình ảnh thu được là kết quả phân vùng trung gian, và không nên nhầm lẫn với hình ảnh được phân vùng cuối cùng. Để ra được kết quả cuối, cần thực hiện một số bước bổ sung bao gồm: kết hợp các phân vùng cạnh thu được làm một, để giảm số lượng phân vùng và có được một đường viền liền mạch của đối tượng. \n",
    "\n",
    "* Như vậy, có thể thấy, phân vùng cạnh đưa ra một kết quả phân vùng trung gian. Kết quả này sau đó có thể áp dụng theo vùng hoặc bất kỳ kiểu phân đoạn nào khác, nhằm có được hình ảnh được phân vùng cuối."
   ]
  },
  {
   "cell_type": "code",
   "execution_count": null,
   "id": "f01a1eed",
   "metadata": {},
   "outputs": [],
   "source": [
    "#Đọc ảnh pic_money ở chế độ ảnh xám:\n",
    "img_money = \n",
    "\n",
    "#Hiển thị ảnh gốc:\n"
   ]
  },
  {
   "cell_type": "code",
   "execution_count": null,
   "id": "92cc664c",
   "metadata": {},
   "outputs": [],
   "source": []
  },
  {
   "cell_type": "markdown",
   "id": "48d3785f",
   "metadata": {},
   "source": [
    "### Canny edge detection\n",
    "---\n",
    "Phát hiện biên Canny do John Canny khởi xướng vào năm 1986. Là thuật toán được sử dụng phổ biến và hiệu quả trong việc xác định biên.\n",
    "\n",
    "**cv2.Canny(image, T_lower, T_upper, aperture_size, L2Gradient)**\n",
    "\n",
    "Trong đó:\n",
    "1. Image: Input image to which Canny filter will be applied\n",
    "2. T_lower: Lower threshold value in Hysteresis Thresholding\n",
    "3. T_upper: Upper threshold value in Hysteresis Thresholding\n",
    "4. aperture_size: Aperture size of the Sobel filter.\n",
    "5. L2Gradient: Boolean parameter used for more precision in calculating Edge Gradient.\n",
    "\n",
    "\n",
    "https://docs.opencv.org/3.4/da/d22/tutorial_py_canny.html"
   ]
  },
  {
   "cell_type": "code",
   "execution_count": null,
   "id": "7cb3dd60",
   "metadata": {},
   "outputs": [],
   "source": []
  },
  {
   "cell_type": "code",
   "execution_count": null,
   "id": "6b9b9105",
   "metadata": {},
   "outputs": [],
   "source": [
    "#Làm trơn với Gaussian:\n",
    "\n",
    "\n",
    "#Sử dụng phương thức canny:\n",
    "\n",
    "\n",
    "#Hiển thị kết quả:\n"
   ]
  },
  {
   "cell_type": "code",
   "execution_count": null,
   "id": "7f76a417",
   "metadata": {},
   "outputs": [],
   "source": []
  },
  {
   "cell_type": "code",
   "execution_count": null,
   "id": "4274a547",
   "metadata": {},
   "outputs": [],
   "source": []
  },
  {
   "cell_type": "markdown",
   "id": "09de2d9a",
   "metadata": {},
   "source": [
    "**Thực hiện đếm số coins trong hình:**\n",
    "---\n",
    "Sử dụng các phương thức OpenCV cung cấp, thực hiện đếm số lượng các đồng xu có trong hình"
   ]
  },
  {
   "cell_type": "code",
   "execution_count": null,
   "id": "af2380a7",
   "metadata": {},
   "outputs": [],
   "source": [
    "#Bước 1: Đọc ảnh ở chế độ ảnh màu:\n",
    "image = cv2.imread('images/pic_money.jpeg')\n",
    "\n",
    "#Hiển thị ảnh gốc ở dạng xám:\n",
    "gray = cv2.cvtColor(image, cv2.COLOR_BGR2GRAY)\n",
    "\n",
    "plt.figure(figsize=(10,10))\n",
    "plt.subplot(2,2,1)\n",
    "plt.imshow(gray, cmap='gray');\n",
    "plt.title('Ảnh gốc')\n",
    "\n",
    "#Bước 2: Phát hiện biên với Canny:\n",
    "#Thực hiện làm mịn ảnh với Gausian:\n",
    "blur = cv2.GaussianBlur(gray, (11,11), 0)\n",
    "\n",
    "#Phát hiện biên với Canny\n",
    "canny = cv2.Canny(blur, 30, 150, 3)\n",
    "plt.subplot(2,2,2)\n",
    "plt.imshow(canny, cmap='gray')\n",
    "plt.title('Ảnh biên với Canny')\n",
    "\n",
    "\n",
    "#Bước 3: Làm đậm đường biên:\n",
    "dilated = cv2.dilate(canny, (1,1), iterations = 2)\n",
    "plt.subplot(2,2,3)\n",
    "plt.imshow(dilated, cmap='gray')\n",
    "plt.title('Ảnh làm đậm đường biên')\n",
    "\n",
    "#Bước 4: Lấy countour của ảnh và đếm số lượng:\n",
    "(cnt, heirarchy) = cv2.findContours(dilated.copy(), \n",
    "                                    cv2.RETR_EXTERNAL, \n",
    "                                    cv2.CHAIN_APPROX_NONE)\n",
    "\n",
    "rgb = cv2.cvtColor(image, cv2.COLOR_BGR2RGB)\n",
    "cv2.drawContours(rgb, cnt, -1, (200,0,0), 2)\n",
    "\n",
    "plt.subplot(2,2,4)\n",
    "plt.imshow(rgb)\n",
    "plt.title('Ảnh chồng lấp countour')\n",
    "plt.show()\n",
    "\n",
    "print('Số lượng đồng xu trong ảnh là: ', len(cnt))"
   ]
  },
  {
   "cell_type": "code",
   "execution_count": null,
   "id": "4976e8cf",
   "metadata": {},
   "outputs": [],
   "source": []
  },
  {
   "cell_type": "markdown",
   "id": "dc39e6da",
   "metadata": {},
   "source": [
    "# THỰC HÀNH 4.2\n",
    "---\n",
    "1. Đọc và hiển thị ảnh Thuchanh4_2.jpeg ở dạng ảnh màu.\n",
    "2. Sử dụng phương pháp Canny với các tham số phù hợp phát hiện biên của các đối tượng trong ảnh.\n",
    "3. Đếm số lượng bóng bay trong bức ảnh với OpenCV\n",
    "\n",
    "<img src='images/Thuchanh4_2.jpeg' width='400px'>\n"
   ]
  },
  {
   "cell_type": "code",
   "execution_count": null,
   "id": "f5cbe21f",
   "metadata": {},
   "outputs": [],
   "source": [
    "#{HỌC VIÊN VIẾT CODE Ở ĐÂY}\n",
    "\n",
    "\n",
    "\n",
    "\n"
   ]
  },
  {
   "cell_type": "code",
   "execution_count": null,
   "id": "eed31288",
   "metadata": {},
   "outputs": [],
   "source": []
  },
  {
   "cell_type": "code",
   "execution_count": null,
   "id": "ecc34b40",
   "metadata": {},
   "outputs": [],
   "source": []
  },
  {
   "cell_type": "code",
   "execution_count": null,
   "id": "85986945",
   "metadata": {},
   "outputs": [],
   "source": []
  },
  {
   "cell_type": "markdown",
   "id": "5020a29b",
   "metadata": {},
   "source": [
    "## 3.3 Phân vùng ảnh dựa trên kỹ thuật phân cụm (Clustering based method)\n",
    "---\n",
    "* Phân cụm (Clustering) là một loại thuật toán học máy không giám sát, được sử dụng phổ biến trong phân vùng ảnh. Một trong những thuật toán Clustering thường được ứng dụng cho tác vụ phân vùng ảnh là KMeans Clustering. Loại phân cụm này có thể được sử dụng để tạo các phân đoạn trong một hình ảnh có màu.\n",
    "\n",
    "**KMeans Clustering:**\n",
    "\n",
    "* Hãy hình dung về một tập dữ liệu 2 chiều. Đầu tiên, trong tập dữ liệu, các trọng tâm – centroid (do người dùng chọn) được khởi tạo ngẫu nhiên. Sau đó, tiến hành tính toán khoảng cách của tất cả các điểm đến tất cả các cụm. Điểm được gán cho cụm có khoảng cách nhỏ nhất. \n",
    "\n",
    "* Tiếp đến, trọng tâm của tất cả các cụm được tính toán lại bằng cách lấy giá trị trung bình của cụm đó và các điểm dữ liệu lại một lần nữa được gán cho các cụm. \n",
    "\n",
    "* Quá trình này tiếp diễn cho đến khi thuật toán hội tụ thành một giải pháp tốt. Thông thường, số lần lặp lại như vậy rất nhỏ.\n"
   ]
  },
  {
   "cell_type": "code",
   "execution_count": null,
   "id": "dfc6233a",
   "metadata": {},
   "outputs": [],
   "source": [
    "# Đọc ảnh pic2 ở chế độ ảnh màu\n",
    "img = cv2.imread('images/pic2.jpeg')\n",
    "\n",
    "#chuyển từ hệ màu GBR sang hệ màu RGB:\n",
    "img = cv2.cvtColor(img,cv2.COLOR_BGR2RGB)\n",
    "\n",
    "#Hiển thị ảnh gốc:\n",
    "plt.imshow(img)\n",
    "plt.show()"
   ]
  },
  {
   "cell_type": "code",
   "execution_count": null,
   "id": "c897fa3d",
   "metadata": {},
   "outputs": [],
   "source": [
    "img"
   ]
  },
  {
   "cell_type": "code",
   "execution_count": null,
   "id": "73537817",
   "metadata": {},
   "outputs": [],
   "source": [
    "#Chuyển đổi mảng 3 chiều về ma trận, mỗi cột ứng với một kênh màu\n",
    "twoDimage = img.reshape((-1,3))\n",
    "twoDimage = np.float32(twoDimage)"
   ]
  },
  {
   "cell_type": "code",
   "execution_count": null,
   "id": "c814024a",
   "metadata": {},
   "outputs": [],
   "source": [
    "#Ảnh gốc: Mảng 3 chiều\n",
    "img.shape"
   ]
  },
  {
   "cell_type": "code",
   "execution_count": null,
   "id": "101995f1",
   "metadata": {},
   "outputs": [],
   "source": [
    "print('Số pixel:', 500*500)"
   ]
  },
  {
   "cell_type": "code",
   "execution_count": null,
   "id": "19900b77",
   "metadata": {},
   "outputs": [],
   "source": [
    "#dữ liệu ảnh 2 chiều: Ma trận\n",
    "twoDimage.shape"
   ]
  },
  {
   "cell_type": "code",
   "execution_count": null,
   "id": "3857b160",
   "metadata": {},
   "outputs": [],
   "source": [
    "twoDimage"
   ]
  },
  {
   "cell_type": "markdown",
   "id": "d39ae9f7",
   "metadata": {},
   "source": [
    "**ret,label,center=cv2.kmeans(samples, K,  criteria, attempts, flags)**\n",
    "\n",
    "**Tham số đầu vào:**\n",
    "1. samples : Mẫu thì nên là kiểu dữ liệu của np.float32, và mỗi đối tượng cần được đặt trọng cột duy nhất.\n",
    "2. nclusters (K): Số nhóm yêu cầu tại thời điểm cuối cùng\n",
    "3. criteria : Đây là tiêu chí chấm dứt vòng lặp. Khi tiêu chí này được thỏa mãn, thuật toán sẽ dừng vòng lặp. Trên thực tế, nó phải là một nhóm 3 thông số (type, max_iter, epsilon):\n",
    "    * 3.a - loại tiêu chí chấm dứt: Nó có 3 lá cờ như sau: \n",
    "        * cv2.TERM_CRITERIA_EPS - ngăn sự lặp lại thuật toán nếu đạt được độ chính xác nhất định - epsilon đạt được. \n",
    "        * cv2.TERM_CRITERIA_MAX_ITER - dừng thuật toán sau khi số lượng nhất định được lặp đi lặp lại.\n",
    "        * cv2.TERM_CRITERIA_EPS max_iter + cv2.TERM_CRITERIA_MAX_ITER - ngăn chặn sự lặp đi lặp lại khi một trong các điều kiện trên nó được đáp ứng\n",
    "    * 3.b - max_iter - Một số nguyên xác định số lượng tối đa vòng lặp.\n",
    "    * 3.c - Độ chính xác - epsilon\n",
    "4. attempts: Cờ để xác định số lần các thuật toán được thực hiện bằng cách sử dụng việc đánh nhãn khởi tạo khác nhau.\n",
    "5. flags : Cờ này được sử dụng để xác định trung tầm ban đầu được chọn như thế nào. Về cơ bản có 2 cờ được sử dụng là : cv2.KMEANS_PP_CENTERS và cv2.KMEANS_RANDOM_CENTERS.\n",
    "\n",
    "**Tham số đầu ra:**\n",
    "1. compactness : Đây là tổng của bình phương khoảng cách từ mỗi điểm đến trọng tâm tương tự của họ.\n",
    "2. labels : Đây là mảng các label trong đó mỗi phần tử của mảng được đánh dấu '0', '1' .....\n",
    "3. centers : Đây là mảng trọng tâm của các nhóm."
   ]
  },
  {
   "cell_type": "code",
   "execution_count": null,
   "id": "b483ea13",
   "metadata": {},
   "outputs": [],
   "source": [
    "#Thiết lập các tham số của cụm\n",
    "K = 2\n",
    "criteria = (cv2.TERM_CRITERIA_EPS + cv2.TERM_CRITERIA_MAX_ITER, 100, 1.0)\n",
    "attempts=50"
   ]
  },
  {
   "cell_type": "code",
   "execution_count": null,
   "id": "b8b3b45c",
   "metadata": {},
   "outputs": [],
   "source": [
    "#Sử dụng phương thức cv2.kmeans để phân cụm\n",
    "ret,label,center=cv2.kmeans(twoDimage,\n",
    "                            K,\n",
    "                            None,\n",
    "                            criteria,\n",
    "                            attempts,\n",
    "                            cv2.KMEANS_PP_CENTERS)\n",
    "center = np.uint8(center)\n",
    "res = center[label.flatten()]\n",
    "result_image = res.reshape((img.shape))"
   ]
  },
  {
   "cell_type": "code",
   "execution_count": null,
   "id": "ff69f69c",
   "metadata": {},
   "outputs": [],
   "source": [
    "#Hiển thị kết quả phân cụm:\n",
    "plt.imshow(result_image)\n",
    "plt.title('Phân ảnh thành 3 vùng')\n",
    "plt.show()"
   ]
  },
  {
   "cell_type": "code",
   "execution_count": null,
   "id": "1ea4083b",
   "metadata": {},
   "outputs": [],
   "source": []
  },
  {
   "cell_type": "code",
   "execution_count": null,
   "id": "7ce1b84d",
   "metadata": {},
   "outputs": [],
   "source": []
  },
  {
   "cell_type": "code",
   "execution_count": null,
   "id": "efe2f6d4",
   "metadata": {},
   "outputs": [],
   "source": []
  },
  {
   "cell_type": "markdown",
   "id": "97d94a8c",
   "metadata": {},
   "source": [
    "## Sử dụng thuật toán Kmeans trong thư viện Scikit Learn\n",
    "---"
   ]
  },
  {
   "cell_type": "code",
   "execution_count": null,
   "id": "24a30a89",
   "metadata": {},
   "outputs": [],
   "source": [
    "import matplotlib.pyplot as plt\n",
    "import numpy as np\n",
    "from sklearn.datasets import load_sample_image\n",
    "#Đọc và hiển thị ảnh mẫu có trong thư viện sklearn:\n",
    "flower = load_sample_image(\"flower.jpg\")\n",
    "\n",
    "#Hiển thị ảnh:\n",
    "plt.imshow(flower)\n",
    "plt.title('Ảnh gốc')\n",
    "plt.show()"
   ]
  },
  {
   "cell_type": "code",
   "execution_count": null,
   "id": "746cea6a",
   "metadata": {},
   "outputs": [],
   "source": [
    "#Biến đổi dữ liệu ảnh về dạng phù hợp với mô hình:\n",
    "#Scaling data đưa dữ liệu từ khoảng [0--> 255] về khoảng [0-1]\n",
    "data=flower/255.0\n",
    "\n",
    "#Đưa dữ liệu ảnh màu từ mảng 3 chiều về ma trận:\n",
    "data = data.reshape(-1, 3)\n",
    "\n",
    "data.shape"
   ]
  },
  {
   "cell_type": "code",
   "execution_count": null,
   "id": "01ba3034",
   "metadata": {},
   "outputs": [],
   "source": [
    "#Viết hàm hiển thị các pixel điểm ảnh và màu sắc\n",
    "def plot_pixels(data, title, colors=None, N=10000):\n",
    "    if colors is None:\n",
    "        colors = data  \n",
    "    # choose a random subset\n",
    "    rng = np.random.RandomState(0)\n",
    "    i = rng.permutation(data.shape[0])[:N]\n",
    "    colors = colors[i]\n",
    "    R, G, B = data[i].T\n",
    "    \n",
    "    fig, ax = plt.subplots(1, 2, figsize=(16, 6))\n",
    "    ax[0].scatter(R, G, color=colors, marker='.')\n",
    "    ax[0].set(xlabel='Red', ylabel='Green', xlim=(0, 1), ylim=(0, 1))\n",
    "\n",
    "    ax[1].scatter(R, B, color=colors, marker='.')\n",
    "    ax[1].set(xlabel='Red', ylabel='Blue', xlim=(0, 1), ylim=(0, 1))\n",
    "\n",
    "    fig.suptitle(title, size=20);"
   ]
  },
  {
   "cell_type": "code",
   "execution_count": null,
   "id": "ff9fb719",
   "metadata": {},
   "outputs": [],
   "source": [
    "plot_pixels(data, title='Input color space: 16 million possible colors')"
   ]
  },
  {
   "cell_type": "code",
   "execution_count": null,
   "id": "860c7e64",
   "metadata": {},
   "outputs": [],
   "source": [
    "#Sử dụng thư viện học máy Scikit - Learn:\n",
    "import warnings\n",
    "warnings.filterwarnings('ignore')\n",
    "from sklearn.cluster import KMeans\n",
    "\n",
    "#Phân thành 2 cụm:\n",
    "kmeans_images = KMeans(n_clusters=2)\n",
    "kmeans_images.fit(data)\n",
    "\n",
    "#Minh họa kết quả phân cụm các pixel điểm ảnh:\n",
    "new_colors = kmeans_images.cluster_centers_[kmeans_images.predict(data)]\n",
    "plot_pixels(data, colors=new_colors,\n",
    "            title=\"Reduced color space with Kmeans\")"
   ]
  },
  {
   "cell_type": "code",
   "execution_count": null,
   "id": "2ea10c45",
   "metadata": {},
   "outputs": [],
   "source": [
    "flower_recolored = new_colors.reshape(flower.shape)\n",
    "\n",
    "#Hiển thị kết quả:\n",
    "plt.figure(figsize=(16,6))\n",
    "plt.subplot(1,2,1)\n",
    "plt.imshow(flower)\n",
    "plt.title('Ảnh gốc')\n",
    "\n",
    "plt.subplot(1,2,2)\n",
    "plt.imshow(flower_recolored)\n",
    "plt.title('Ảnh phân vùng Kmeans')\n",
    "plt.show()"
   ]
  },
  {
   "cell_type": "code",
   "execution_count": null,
   "id": "7adb7488",
   "metadata": {},
   "outputs": [],
   "source": []
  },
  {
   "cell_type": "code",
   "execution_count": null,
   "id": "e12267ef",
   "metadata": {},
   "outputs": [],
   "source": []
  },
  {
   "cell_type": "markdown",
   "id": "c55e4e08",
   "metadata": {},
   "source": [
    "# THỰC HÀNH 4.3\n",
    "---\n",
    "1. Đọc và hiển thị ảnh Thuchanh4_3.jpeg ở dạng ảnh màu.\n",
    "2. Sử dụng phương pháp phân vùng ảnh dựa trên kỹ thuật phân cụm Kmeans để phân ảnh ra thành:\n",
    "    * 1 cụm\n",
    "    * 2 cụm\n",
    "    * 3 cụm\n",
    "    \n",
    "* Hiển thị kết quả: ảnh 1 cụm - ảnh 2 cụm - ảnh 3 cụm\n",
    "\n",
    "<img src='images/Thuchanh4_3.jpeg' width='400px'>"
   ]
  },
  {
   "cell_type": "code",
   "execution_count": null,
   "id": "a06a0e31",
   "metadata": {},
   "outputs": [],
   "source": [
    "#{HỌC VIÊN VIẾT CODE VÀO ĐÂY}\n",
    "\n",
    "\n",
    "\n"
   ]
  },
  {
   "cell_type": "code",
   "execution_count": null,
   "id": "43ab050e",
   "metadata": {},
   "outputs": [],
   "source": []
  },
  {
   "cell_type": "code",
   "execution_count": null,
   "id": "692d7be0",
   "metadata": {},
   "outputs": [],
   "source": []
  },
  {
   "cell_type": "code",
   "execution_count": null,
   "id": "becbce6a",
   "metadata": {},
   "outputs": [],
   "source": []
  },
  {
   "cell_type": "code",
   "execution_count": null,
   "id": "83e93120",
   "metadata": {},
   "outputs": [],
   "source": []
  },
  {
   "cell_type": "code",
   "execution_count": null,
   "id": "fa39d314",
   "metadata": {},
   "outputs": [],
   "source": []
  }
 ],
 "metadata": {
  "kernelspec": {
   "display_name": "Python 3 (ipykernel)",
   "language": "python",
   "name": "python3"
  },
  "language_info": {
   "codemirror_mode": {
    "name": "ipython",
    "version": 3
   },
   "file_extension": ".py",
   "mimetype": "text/x-python",
   "name": "python",
   "nbconvert_exporter": "python",
   "pygments_lexer": "ipython3",
   "version": "3.10.9"
  }
 },
 "nbformat": 4,
 "nbformat_minor": 5
}
